{
 "cells": [
  {
   "cell_type": "markdown",
   "metadata": {},
   "source": [
    "# La Familia Apply\n",
    "\n"
   ]
  },
  {
   "cell_type": "markdown",
   "metadata": {},
   "source": [
    "Profesor: Mikel N. Legasa (legasam@unican.es)"
   ]
  },
  {
   "cell_type": "markdown",
   "metadata": {},
   "source": [
    "### Introducción"
   ]
  },
  {
   "cell_type": "markdown",
   "metadata": {},
   "source": [
    "`apply()` y sus variantes (`lapply()`, `sapply()`, `mapply()`...) son funciones para manipular matrices, arrays, listas y dataframes de manera repetitiva de distintas maneras, y permiten evitar el uso de ciclos `for` y `while`. Es decir, cuando se trata de aplicar de manera iterativa una función a una estructura de datos, en `R` esta serie de funciones permite hacerlo de manera concisa y rápida.\n",
    "\n",
    "Comenzamos con un ejemplo sencillo, supongamos que queremos poner en minúsculas las letras de todos los nombres de un vector. La función de `R` que lo hace es `tolower()`. La forma habitual y primera aproximación para hacerlo es utilizar un ciclo for, como sigue:"
   ]
  },
  {
   "cell_type": "code",
   "execution_count": 1,
   "metadata": {
    "scrolled": true
   },
   "outputs": [
    {
     "data": {
      "text/html": [
       "<ol class=list-inline>\n",
       "\t<li>'paco'</li>\n",
       "\t<li>'álvaro'</li>\n",
       "\t<li>'maría'</li>\n",
       "\t<li>'alex'</li>\n",
       "</ol>\n"
      ],
      "text/latex": [
       "\\begin{enumerate*}\n",
       "\\item 'paco'\n",
       "\\item 'álvaro'\n",
       "\\item 'maría'\n",
       "\\item 'alex'\n",
       "\\end{enumerate*}\n"
      ],
      "text/markdown": [
       "1. 'paco'\n",
       "2. 'álvaro'\n",
       "3. 'maría'\n",
       "4. 'alex'\n",
       "\n",
       "\n"
      ],
      "text/plain": [
       "[1] \"paco\"   \"álvaro\" \"maría\"  \"alex\"  "
      ]
     },
     "metadata": {},
     "output_type": "display_data"
    }
   ],
   "source": [
    "nombres <- c(\"Paco\",\"Álvaro\",\"María\", \"Alex\")\n",
    "for (i in 1:length(nombres)){\n",
    "    nombres[i] <- tolower(nombres[i])\n",
    "}\n",
    "nombres"
   ]
  },
  {
   "cell_type": "markdown",
   "metadata": {},
   "source": [
    "Pero podemos escribirlo de manera más concisa usando la función `lapply()`:"
   ]
  },
  {
   "cell_type": "code",
   "execution_count": 2,
   "metadata": {},
   "outputs": [
    {
     "data": {
      "text/html": [
       "<ol>\n",
       "\t<li>'paco'</li>\n",
       "\t<li>'álvaro'</li>\n",
       "\t<li>'maría'</li>\n",
       "\t<li>'alex'</li>\n",
       "</ol>\n"
      ],
      "text/latex": [
       "\\begin{enumerate}\n",
       "\\item 'paco'\n",
       "\\item 'álvaro'\n",
       "\\item 'maría'\n",
       "\\item 'alex'\n",
       "\\end{enumerate}\n"
      ],
      "text/markdown": [
       "1. 'paco'\n",
       "2. 'álvaro'\n",
       "3. 'maría'\n",
       "4. 'alex'\n",
       "\n",
       "\n"
      ],
      "text/plain": [
       "[[1]]\n",
       "[1] \"paco\"\n",
       "\n",
       "[[2]]\n",
       "[1] \"álvaro\"\n",
       "\n",
       "[[3]]\n",
       "[1] \"maría\"\n",
       "\n",
       "[[4]]\n",
       "[1] \"alex\"\n"
      ]
     },
     "metadata": {},
     "output_type": "display_data"
    }
   ],
   "source": [
    "nombres <- c(\"Paco\",\"Álvaro\", \"María\", \"Alex\")\n",
    "nombres <- lapply(nombres, tolower)\n",
    "nombres"
   ]
  },
  {
   "cell_type": "markdown",
   "metadata": {},
   "source": [
    "Nota: Hay que tener en cuenta que muchas funciones de `R` están *vectorizadas*, lo que significa que pueden aplicarse directamente sobre vectores:"
   ]
  },
  {
   "cell_type": "code",
   "execution_count": 3,
   "metadata": {},
   "outputs": [
    {
     "data": {
      "text/html": [
       "<ol class=list-inline>\n",
       "\t<li>'paco'</li>\n",
       "\t<li>'álvaro'</li>\n",
       "\t<li>'maría'</li>\n",
       "\t<li>'alex'</li>\n",
       "</ol>\n"
      ],
      "text/latex": [
       "\\begin{enumerate*}\n",
       "\\item 'paco'\n",
       "\\item 'álvaro'\n",
       "\\item 'maría'\n",
       "\\item 'alex'\n",
       "\\end{enumerate*}\n"
      ],
      "text/markdown": [
       "1. 'paco'\n",
       "2. 'álvaro'\n",
       "3. 'maría'\n",
       "4. 'alex'\n",
       "\n",
       "\n"
      ],
      "text/plain": [
       "[1] \"paco\"   \"álvaro\" \"maría\"  \"alex\"  "
      ]
     },
     "metadata": {},
     "output_type": "display_data"
    }
   ],
   "source": [
    "tolower(nombres)"
   ]
  },
  {
   "cell_type": "markdown",
   "metadata": {},
   "source": [
    "Por supuesto, para cualquier función no vectorizada, o para navegar sobre tipos de datos más complejos, la familia Apply será muy útil."
   ]
  },
  {
   "cell_type": "markdown",
   "metadata": {},
   "source": [
    "En la siguiente sección veremos en detalle las diferencias entre las diferentes funciones de la familia, esencialmente cada una de ellas está indicada para operar sobre un tipo de estructura distinta. Nos centraremos en `apply()`, pensada para recorrer matrices sobre sus dimensiones; `lapply()`, pensada para recorrer listas y vectores; `sapply()`, que equivale a `lapply()` pero trata de simplificar en un array el resultado, y `mapply()` permite iterar sobre varias listas o vectores a la vez."
   ]
  },
  {
   "cell_type": "markdown",
   "metadata": {},
   "source": [
    "## `Apply()`"
   ]
  },
  {
   "cell_type": "markdown",
   "metadata": {},
   "source": [
    "Esta primera función opera sobre arrays multidimensionales, en particular matrices. Sus tres principales argumentos son \n",
    "\n",
    "- `X`: Array sobre el que se desea operar.\n",
    "- `MARGIN`: Dimensión sobre la que se desea aplicar la función indicada en `FUN`. Escribiendo `MARGIN = 1` aplicaremos la función a las filas de la matriz y escribiendo `MARGIN = 2` sobre las columnas. Notar que si `X` tiene más de dos dimensiones `MARGIN = 3` opera sobre la tercera dimensión, etc...\n",
    "- `FUN`: Función a aplicar.\n",
    "\n",
    "\n",
    "Vamos a trabajar con la matriz `A`:"
   ]
  },
  {
   "cell_type": "code",
   "execution_count": 3,
   "metadata": {},
   "outputs": [],
   "source": [
    "?sample"
   ]
  },
  {
   "cell_type": "code",
   "execution_count": 4,
   "metadata": {},
   "outputs": [
    {
     "data": {
      "text/html": [
       "<table>\n",
       "<tbody>\n",
       "\t<tr><td> 4</td><td>15</td><td>11</td><td> 6</td><td> 5</td><td> 8</td></tr>\n",
       "\t<tr><td> 6</td><td>10</td><td> 6</td><td>11</td><td> 6</td><td> 9</td></tr>\n",
       "\t<tr><td> 8</td><td> 9</td><td>15</td><td>13</td><td> 1</td><td> 7</td></tr>\n",
       "\t<tr><td>11</td><td> 1</td><td>14</td><td> 3</td><td>15</td><td> 3</td></tr>\n",
       "\t<tr><td> 3</td><td> 3</td><td> 8</td><td> 8</td><td>10</td><td>10</td></tr>\n",
       "\t<tr><td> 9</td><td> 2</td><td>10</td><td> 2</td><td> 4</td><td>13</td></tr>\n",
       "</tbody>\n",
       "</table>\n"
      ],
      "text/latex": [
       "\\begin{tabular}{llllll}\n",
       "\t  4 & 15 & 11 &  6 &  5 &  8\\\\\n",
       "\t  6 & 10 &  6 & 11 &  6 &  9\\\\\n",
       "\t  8 &  9 & 15 & 13 &  1 &  7\\\\\n",
       "\t 11 &  1 & 14 &  3 & 15 &  3\\\\\n",
       "\t  3 &  3 &  8 &  8 & 10 & 10\\\\\n",
       "\t  9 &  2 & 10 &  2 &  4 & 13\\\\\n",
       "\\end{tabular}\n"
      ],
      "text/markdown": [
       "\n",
       "|  4 | 15 | 11 |  6 |  5 |  8 | \n",
       "|  6 | 10 |  6 | 11 |  6 |  9 | \n",
       "|  8 |  9 | 15 | 13 |  1 |  7 | \n",
       "| 11 |  1 | 14 |  3 | 15 |  3 | \n",
       "|  3 |  3 |  8 |  8 | 10 | 10 | \n",
       "|  9 |  2 | 10 |  2 |  4 | 13 | \n",
       "\n",
       "\n"
      ],
      "text/plain": [
       "     [,1] [,2] [,3] [,4] [,5] [,6]\n",
       "[1,]  4   15   11    6    5    8  \n",
       "[2,]  6   10    6   11    6    9  \n",
       "[3,]  8    9   15   13    1    7  \n",
       "[4,] 11    1   14    3   15    3  \n",
       "[5,]  3    3    8    8   10   10  \n",
       "[6,]  9    2   10    2    4   13  "
      ]
     },
     "metadata": {},
     "output_type": "display_data"
    }
   ],
   "source": [
    "set.seed(1) # resultados reproducibles\n",
    "A <- replicate(expr = sample(1:15, size = 6),n = 6) # replicate() evalua la expresión expr n veces\n",
    "A"
   ]
  },
  {
   "cell_type": "markdown",
   "metadata": {},
   "source": [
    "**Ejemplo:** calcular el máximo de cada fila de la matriz:"
   ]
  },
  {
   "cell_type": "code",
   "execution_count": 5,
   "metadata": {},
   "outputs": [
    {
     "data": {
      "text/html": [
       "<ol class=list-inline>\n",
       "\t<li>15</li>\n",
       "\t<li>11</li>\n",
       "\t<li>15</li>\n",
       "\t<li>15</li>\n",
       "\t<li>10</li>\n",
       "\t<li>13</li>\n",
       "</ol>\n"
      ],
      "text/latex": [
       "\\begin{enumerate*}\n",
       "\\item 15\n",
       "\\item 11\n",
       "\\item 15\n",
       "\\item 15\n",
       "\\item 10\n",
       "\\item 13\n",
       "\\end{enumerate*}\n"
      ],
      "text/markdown": [
       "1. 15\n",
       "2. 11\n",
       "3. 15\n",
       "4. 15\n",
       "5. 10\n",
       "6. 13\n",
       "\n",
       "\n"
      ],
      "text/plain": [
       "[1] 15 11 15 15 10 13"
      ]
     },
     "metadata": {},
     "output_type": "display_data"
    }
   ],
   "source": [
    "apply(X = A, MARGIN = 1, FUN = max)"
   ]
  },
  {
   "cell_type": "markdown",
   "metadata": {},
   "source": [
    "**Ejemplo:** calcular el mínimo de cada columna de la matriz:"
   ]
  },
  {
   "cell_type": "code",
   "execution_count": 6,
   "metadata": {},
   "outputs": [
    {
     "data": {
      "text/html": [
       "<ol class=list-inline>\n",
       "\t<li>3</li>\n",
       "\t<li>1</li>\n",
       "\t<li>6</li>\n",
       "\t<li>2</li>\n",
       "\t<li>1</li>\n",
       "\t<li>3</li>\n",
       "</ol>\n"
      ],
      "text/latex": [
       "\\begin{enumerate*}\n",
       "\\item 3\n",
       "\\item 1\n",
       "\\item 6\n",
       "\\item 2\n",
       "\\item 1\n",
       "\\item 3\n",
       "\\end{enumerate*}\n"
      ],
      "text/markdown": [
       "1. 3\n",
       "2. 1\n",
       "3. 6\n",
       "4. 2\n",
       "5. 1\n",
       "6. 3\n",
       "\n",
       "\n"
      ],
      "text/plain": [
       "[1] 3 1 6 2 1 3"
      ]
     },
     "metadata": {},
     "output_type": "display_data"
    }
   ],
   "source": [
    "apply(X = A, MARGIN = 2, FUN = min)"
   ]
  },
  {
   "cell_type": "markdown",
   "metadata": {},
   "source": [
    "`apply()` también permite pasar argumentos adicionales a la función especificada en `FUN`. Es decir, en nuestro último ejemplo `apply()` aplica a las columnas de la matriz `A` la función `min()`, para la cual podemos querer especificar algún argumento adicional (las columnas de `A` entran como primer argumento). En efecto, `min()` tiene el argumento `na.rm`, que permite ignorar los `NA` en el cálculo del mínimo, si los hubiera. Veamos un ejemplo:\n",
    "\n",
    "**Ejemplo:** Calcular el mímimo de cada columna de la matriz `A`, a la que hemos introducido dos `NA`:"
   ]
  },
  {
   "cell_type": "code",
   "execution_count": 7,
   "metadata": {},
   "outputs": [
    {
     "data": {
      "text/html": [
       "<ol class=list-inline>\n",
       "\t<li>3</li>\n",
       "\t<li>&lt;NA&gt;</li>\n",
       "\t<li>6</li>\n",
       "\t<li>2</li>\n",
       "\t<li>1</li>\n",
       "\t<li>&lt;NA&gt;</li>\n",
       "</ol>\n"
      ],
      "text/latex": [
       "\\begin{enumerate*}\n",
       "\\item 3\n",
       "\\item <NA>\n",
       "\\item 6\n",
       "\\item 2\n",
       "\\item 1\n",
       "\\item <NA>\n",
       "\\end{enumerate*}\n"
      ],
      "text/markdown": [
       "1. 3\n",
       "2. &lt;NA&gt;\n",
       "3. 6\n",
       "4. 2\n",
       "5. 1\n",
       "6. &lt;NA&gt;\n",
       "\n",
       "\n"
      ],
      "text/plain": [
       "[1]  3 NA  6  2  1 NA"
      ]
     },
     "metadata": {},
     "output_type": "display_data"
    }
   ],
   "source": [
    "# Introducimos unos NA\n",
    "A[1,2] <- NA\n",
    "A[3,2] <- NA\n",
    "A[4,6] <- NA\n",
    "\n",
    "apply(X = A, MARGIN = 2, FUN = min)"
   ]
  },
  {
   "cell_type": "markdown",
   "metadata": {},
   "source": [
    "Como vemos, al haber `NA`s en la matriz, el mínimo de alguna columna es `NA` también. Si queremos evitarlo, debemos pasarle el argumento `na.rm = TRUE` a la función `min()`. Esto se hace pasándoselo directamente a `apply()` (Si consultas la ayuda (`?apply`), puedes ver el argumento `...`, argumentos opcionales para `FUN`):"
   ]
  },
  {
   "cell_type": "code",
   "execution_count": 8,
   "metadata": {},
   "outputs": [
    {
     "data": {
      "text/html": [
       "<ol class=list-inline>\n",
       "\t<li>3</li>\n",
       "\t<li>1</li>\n",
       "\t<li>6</li>\n",
       "\t<li>2</li>\n",
       "\t<li>1</li>\n",
       "\t<li>7</li>\n",
       "</ol>\n"
      ],
      "text/latex": [
       "\\begin{enumerate*}\n",
       "\\item 3\n",
       "\\item 1\n",
       "\\item 6\n",
       "\\item 2\n",
       "\\item 1\n",
       "\\item 7\n",
       "\\end{enumerate*}\n"
      ],
      "text/markdown": [
       "1. 3\n",
       "2. 1\n",
       "3. 6\n",
       "4. 2\n",
       "5. 1\n",
       "6. 7\n",
       "\n",
       "\n"
      ],
      "text/plain": [
       "[1] 3 1 6 2 1 7"
      ]
     },
     "metadata": {},
     "output_type": "display_data"
    }
   ],
   "source": [
    "apply(X = A, MARGIN = 2, FUN = min, na.rm = TRUE)"
   ]
  },
  {
   "cell_type": "markdown",
   "metadata": {},
   "source": [
    "También podemos usar `apply()` sobre matrices de más dimensiones, por ejemplo:"
   ]
  },
  {
   "cell_type": "markdown",
   "metadata": {},
   "source": [
    "**Ejemplo:** Calcular la media para de las submatrices sobre la dimensión $3$:"
   ]
  },
  {
   "cell_type": "code",
   "execution_count": 9,
   "metadata": {},
   "outputs": [
    {
     "name": "stdout",
     "output_type": "stream",
     "text": [
      "     [,1] [,2] [,3] [,4] [,5]\n",
      "[1,]    5    1    2    4    8\n",
      "[2,]    4   11    6    3   13\n",
      "[3,]   11    9    3    7    5\n",
      "[4,]    9    3    4   10    1\n",
      "[5,]    2   15   13    1    2\n"
     ]
    },
    {
     "data": {
      "text/html": [
       "<ol class=list-inline>\n",
       "\t<li>7.8</li>\n",
       "\t<li>8.28</li>\n",
       "\t<li>7.96</li>\n",
       "\t<li>7.12</li>\n",
       "\t<li>7.56</li>\n",
       "\t<li>9.16</li>\n",
       "\t<li>7.68</li>\n",
       "\t<li>7.4</li>\n",
       "\t<li>7.24</li>\n",
       "\t<li>6.08</li>\n",
       "</ol>\n"
      ],
      "text/latex": [
       "\\begin{enumerate*}\n",
       "\\item 7.8\n",
       "\\item 8.28\n",
       "\\item 7.96\n",
       "\\item 7.12\n",
       "\\item 7.56\n",
       "\\item 9.16\n",
       "\\item 7.68\n",
       "\\item 7.4\n",
       "\\item 7.24\n",
       "\\item 6.08\n",
       "\\end{enumerate*}\n"
      ],
      "text/markdown": [
       "1. 7.8\n",
       "2. 8.28\n",
       "3. 7.96\n",
       "4. 7.12\n",
       "5. 7.56\n",
       "6. 9.16\n",
       "7. 7.68\n",
       "8. 7.4\n",
       "9. 7.24\n",
       "10. 6.08\n",
       "\n",
       "\n"
      ],
      "text/plain": [
       " [1] 7.80 8.28 7.96 7.12 7.56 9.16 7.68 7.40 7.24 6.08"
      ]
     },
     "metadata": {},
     "output_type": "display_data"
    }
   ],
   "source": [
    "A3 <- replicate(replicate(expr = sample(1:15, size = 5),n = 5), n= 10) # A3 es de dimensiones 5x5x10\n",
    "print(A3[,,10]) # ejemplo\n",
    "apply(A3, MARGIN = 3, FUN = mean)"
   ]
  },
  {
   "cell_type": "markdown",
   "metadata": {},
   "source": [
    "Hay que tener en cuenta que podemos escribir nuestra propia función dentro de la función `apply()`, lo que será muy útil para funciones que requieran algo más de complejidad. Es decir, el ejemplo anterior equivale a "
   ]
  },
  {
   "cell_type": "code",
   "execution_count": 10,
   "metadata": {},
   "outputs": [
    {
     "data": {
      "text/html": [
       "<ol class=list-inline>\n",
       "\t<li>7.8</li>\n",
       "\t<li>8.28</li>\n",
       "\t<li>7.96</li>\n",
       "\t<li>7.12</li>\n",
       "\t<li>7.56</li>\n",
       "\t<li>9.16</li>\n",
       "\t<li>7.68</li>\n",
       "\t<li>7.4</li>\n",
       "\t<li>7.24</li>\n",
       "\t<li>6.08</li>\n",
       "</ol>\n"
      ],
      "text/latex": [
       "\\begin{enumerate*}\n",
       "\\item 7.8\n",
       "\\item 8.28\n",
       "\\item 7.96\n",
       "\\item 7.12\n",
       "\\item 7.56\n",
       "\\item 9.16\n",
       "\\item 7.68\n",
       "\\item 7.4\n",
       "\\item 7.24\n",
       "\\item 6.08\n",
       "\\end{enumerate*}\n"
      ],
      "text/markdown": [
       "1. 7.8\n",
       "2. 8.28\n",
       "3. 7.96\n",
       "4. 7.12\n",
       "5. 7.56\n",
       "6. 9.16\n",
       "7. 7.68\n",
       "8. 7.4\n",
       "9. 7.24\n",
       "10. 6.08\n",
       "\n",
       "\n"
      ],
      "text/plain": [
       " [1] 7.80 8.28 7.96 7.12 7.56 9.16 7.68 7.40 7.24 6.08"
      ]
     },
     "metadata": {},
     "output_type": "display_data"
    }
   ],
   "source": [
    "apply(A3, MARGIN = 3, FUN = function(x) {return(mean(x))})"
   ]
  },
  {
   "cell_type": "markdown",
   "metadata": {},
   "source": [
    "**Ejercicio:** Obtén la media por filas de la matriz `A`:"
   ]
  },
  {
   "cell_type": "code",
   "execution_count": 13,
   "metadata": {},
   "outputs": [
    {
     "data": {
      "text/html": [
       "<ol class=list-inline>\n",
       "\t<li>6.8</li>\n",
       "\t<li>8</li>\n",
       "\t<li>8.8</li>\n",
       "\t<li>8.8</li>\n",
       "\t<li>7</li>\n",
       "\t<li>6.66666666666667</li>\n",
       "</ol>\n"
      ],
      "text/latex": [
       "\\begin{enumerate*}\n",
       "\\item 6.8\n",
       "\\item 8\n",
       "\\item 8.8\n",
       "\\item 8.8\n",
       "\\item 7\n",
       "\\item 6.66666666666667\n",
       "\\end{enumerate*}\n"
      ],
      "text/markdown": [
       "1. 6.8\n",
       "2. 8\n",
       "3. 8.8\n",
       "4. 8.8\n",
       "5. 7\n",
       "6. 6.66666666666667\n",
       "\n",
       "\n"
      ],
      "text/plain": [
       "[1] 6.800000 8.000000 8.800000 8.800000 7.000000 6.666667"
      ]
     },
     "metadata": {},
     "output_type": "display_data"
    }
   ],
   "source": [
    "apply(A, MARGIN = 1, mean, na.rm = TRUE)"
   ]
  },
  {
   "cell_type": "markdown",
   "metadata": {},
   "source": [
    "**Ejercicio:** En la matriz `A`, queremos saber cuantos `NA` hay en cada columna (recordar funciones `sum()` e `is.na()`):"
   ]
  },
  {
   "cell_type": "code",
   "execution_count": 15,
   "metadata": {},
   "outputs": [
    {
     "data": {
      "text/html": [
       "<ol class=list-inline>\n",
       "\t<li>0</li>\n",
       "\t<li>2</li>\n",
       "\t<li>0</li>\n",
       "\t<li>0</li>\n",
       "\t<li>0</li>\n",
       "\t<li>1</li>\n",
       "</ol>\n"
      ],
      "text/latex": [
       "\\begin{enumerate*}\n",
       "\\item 0\n",
       "\\item 2\n",
       "\\item 0\n",
       "\\item 0\n",
       "\\item 0\n",
       "\\item 1\n",
       "\\end{enumerate*}\n"
      ],
      "text/markdown": [
       "1. 0\n",
       "2. 2\n",
       "3. 0\n",
       "4. 0\n",
       "5. 0\n",
       "6. 1\n",
       "\n",
       "\n"
      ],
      "text/plain": [
       "[1] 0 2 0 0 0 1"
      ]
     },
     "metadata": {},
     "output_type": "display_data"
    }
   ],
   "source": [
    "apply(A, MARGIN = 2, FUN = function(x) {sum(is.na(x))})"
   ]
  },
  {
   "cell_type": "markdown",
   "metadata": {},
   "source": [
    "**Ejercicio:** Obtén la matriz resultado de sumar a cada columna de la matriz `A` el vector `y`:"
   ]
  },
  {
   "cell_type": "code",
   "execution_count": 16,
   "metadata": {},
   "outputs": [
    {
     "data": {
      "text/html": [
       "<table>\n",
       "<tbody>\n",
       "\t<tr><td> 5</td><td>NA</td><td>12</td><td> 7</td><td> 6</td><td> 9</td></tr>\n",
       "\t<tr><td> 8</td><td>12</td><td> 8</td><td>13</td><td> 8</td><td>11</td></tr>\n",
       "\t<tr><td>11</td><td>NA</td><td>18</td><td>16</td><td> 4</td><td>10</td></tr>\n",
       "\t<tr><td>15</td><td> 5</td><td>18</td><td> 7</td><td>19</td><td>NA</td></tr>\n",
       "\t<tr><td> 8</td><td> 8</td><td>13</td><td>13</td><td>15</td><td>15</td></tr>\n",
       "\t<tr><td>15</td><td> 8</td><td>16</td><td> 8</td><td>10</td><td>19</td></tr>\n",
       "</tbody>\n",
       "</table>\n"
      ],
      "text/latex": [
       "\\begin{tabular}{llllll}\n",
       "\t  5 & NA & 12 &  7 &  6 &  9\\\\\n",
       "\t  8 & 12 &  8 & 13 &  8 & 11\\\\\n",
       "\t 11 & NA & 18 & 16 &  4 & 10\\\\\n",
       "\t 15 &  5 & 18 &  7 & 19 & NA\\\\\n",
       "\t  8 &  8 & 13 & 13 & 15 & 15\\\\\n",
       "\t 15 &  8 & 16 &  8 & 10 & 19\\\\\n",
       "\\end{tabular}\n"
      ],
      "text/markdown": [
       "\n",
       "|  5 | NA | 12 |  7 |  6 |  9 | \n",
       "|  8 | 12 |  8 | 13 |  8 | 11 | \n",
       "| 11 | NA | 18 | 16 |  4 | 10 | \n",
       "| 15 |  5 | 18 |  7 | 19 | NA | \n",
       "|  8 |  8 | 13 | 13 | 15 | 15 | \n",
       "| 15 |  8 | 16 |  8 | 10 | 19 | \n",
       "\n",
       "\n"
      ],
      "text/plain": [
       "     [,1] [,2] [,3] [,4] [,5] [,6]\n",
       "[1,]  5   NA   12    7    6    9  \n",
       "[2,]  8   12    8   13    8   11  \n",
       "[3,] 11   NA   18   16    4   10  \n",
       "[4,] 15    5   18    7   19   NA  \n",
       "[5,]  8    8   13   13   15   15  \n",
       "[6,] 15    8   16    8   10   19  "
      ]
     },
     "metadata": {},
     "output_type": "display_data"
    }
   ],
   "source": [
    "y <- seq(1,6)\n",
    "apply(A, MARGIN = 2, FUN = function(x) {return(x + y)})"
   ]
  },
  {
   "cell_type": "markdown",
   "metadata": {},
   "source": [
    "`apply()` puede utilizarse también sobre `data.frame`s, tratándolos como si fuera una matriz."
   ]
  },
  {
   "cell_type": "markdown",
   "metadata": {},
   "source": [
    "**Ejercicio**: Del `data.frame` `alumnos`, verifica si hay alguien que se llame \"jose\" e identifica la clase en la que se encuentra, utilizando la función `is.element()` y definiendo una función dentro de `apply()`, después haz lo mismo sin definir una función:"
   ]
  },
  {
   "cell_type": "code",
   "execution_count": 17,
   "metadata": {},
   "outputs": [
    {
     "data": {
      "text/html": [
       "<dl class=dl-horizontal>\n",
       "\t<dt>fisica</dt>\n",
       "\t\t<dd>TRUE</dd>\n",
       "\t<dt>matematicas</dt>\n",
       "\t\t<dd>TRUE</dd>\n",
       "\t<dt>biologia</dt>\n",
       "\t\t<dd>FALSE</dd>\n",
       "</dl>\n"
      ],
      "text/latex": [
       "\\begin{description*}\n",
       "\\item[fisica] TRUE\n",
       "\\item[matematicas] TRUE\n",
       "\\item[biologia] FALSE\n",
       "\\end{description*}\n"
      ],
      "text/markdown": [
       "fisica\n",
       ":   TRUEmatematicas\n",
       ":   TRUEbiologia\n",
       ":   FALSE\n",
       "\n"
      ],
      "text/plain": [
       "     fisica matematicas    biologia \n",
       "       TRUE        TRUE       FALSE "
      ]
     },
     "metadata": {},
     "output_type": "display_data"
    },
    {
     "data": {
      "text/html": [
       "<dl class=dl-horizontal>\n",
       "\t<dt>fisica</dt>\n",
       "\t\t<dd>TRUE</dd>\n",
       "\t<dt>matematicas</dt>\n",
       "\t\t<dd>TRUE</dd>\n",
       "\t<dt>biologia</dt>\n",
       "\t\t<dd>FALSE</dd>\n",
       "</dl>\n"
      ],
      "text/latex": [
       "\\begin{description*}\n",
       "\\item[fisica] TRUE\n",
       "\\item[matematicas] TRUE\n",
       "\\item[biologia] FALSE\n",
       "\\end{description*}\n"
      ],
      "text/markdown": [
       "fisica\n",
       ":   TRUEmatematicas\n",
       ":   TRUEbiologia\n",
       ":   FALSE\n",
       "\n"
      ],
      "text/plain": [
       "     fisica matematicas    biologia \n",
       "       TRUE        TRUE       FALSE "
      ]
     },
     "metadata": {},
     "output_type": "display_data"
    }
   ],
   "source": [
    "alumnos <-\n",
    "data.frame(fisica = c(\"juan\", \"rodrigo\", \"maria\", \"jose\"),\n",
    "           matematicas = c(\"joaquin\", \"maialen\", \"jose\", NA),\n",
    "           biologia = c(\"ana\", \"daniel\", \"markel\", \"adriana\"))\n",
    "\n",
    "apply(alumnos, MARGIN = 2, is.element, el='jose')\n",
    "apply(alumnos, MARGIN = 2, FUN = function(x) {return(is.element('jose', x))})"
   ]
  },
  {
   "cell_type": "markdown",
   "metadata": {},
   "source": [
    "Por último, nótese que `apply()` puede producir resultados inesperados. La ayuda de `apply()` especifica \"Si la llamada a la función devuelve un vector de longitud $n$, entonces `apply()` devuelve un array de dimensión `c(n, dim(X)[MARGIN])`. Compruébalo:"
   ]
  },
  {
   "cell_type": "markdown",
   "metadata": {},
   "source": [
    "**Ejercicio:** Obtén la **matriz resultado** de sumar a cada **fila** de la matriz `A3` el vector `y`:"
   ]
  },
  {
   "cell_type": "code",
   "execution_count": 18,
   "metadata": {
    "scrolled": true
   },
   "outputs": [
    {
     "data": {
      "text/html": [
       "<ol class=list-inline>\n",
       "\t<li>50</li>\n",
       "\t<li>5</li>\n",
       "</ol>\n"
      ],
      "text/latex": [
       "\\begin{enumerate*}\n",
       "\\item 50\n",
       "\\item 5\n",
       "\\end{enumerate*}\n"
      ],
      "text/markdown": [
       "1. 50\n",
       "2. 5\n",
       "\n",
       "\n"
      ],
      "text/plain": [
       "[1] 50  5"
      ]
     },
     "metadata": {},
     "output_type": "display_data"
    }
   ],
   "source": [
    "y <- seq(1,5)\n",
    "dim(apply(A3, MARGIN = 1, function(x) {return(x+y)}))"
   ]
  },
  {
   "cell_type": "markdown",
   "metadata": {},
   "source": [
    "Nota: En `R` ya existen las funciones `rowMeans()`, `rowSums()`, `colMeans()`, `colSums()`. Éstas están ya precompiladas en `C` y son mucho más rápidas que sus equivalentes utilizando bien `apply()` o ciclos for."
   ]
  },
  {
   "cell_type": "markdown",
   "metadata": {},
   "source": [
    "## `lapply()` y `sapply()`"
   ]
  },
  {
   "cell_type": "markdown",
   "metadata": {},
   "source": [
    "`lapply()` es la función indicada para trabajar con listas. También permite iterar sobre vectores, como vimos en la introducción, y sobre `data.frame`s. Sus dos argumentos principales son, análogamente a `apply()`,\n",
    "\n",
    "- `X`: Lista sobre la que se desea iterar.\n",
    "- `FUN`: Función a aplicar.\n",
    "\n",
    "E idénticamente a ésta, también permite especificar argumentos adicionales (`...`)."
   ]
  },
  {
   "cell_type": "markdown",
   "metadata": {},
   "source": [
    "**Ejercicio:** De la lista siguiente obtén la media de cada vector"
   ]
  },
  {
   "cell_type": "code",
   "execution_count": 19,
   "metadata": {},
   "outputs": [
    {
     "data": {
      "text/html": [
       "<ol>\n",
       "\t<li>7.5</li>\n",
       "\t<li>7.5</li>\n",
       "\t<li>4.75</li>\n",
       "</ol>\n"
      ],
      "text/latex": [
       "\\begin{enumerate}\n",
       "\\item 7.5\n",
       "\\item 7.5\n",
       "\\item 4.75\n",
       "\\end{enumerate}\n"
      ],
      "text/markdown": [
       "1. 7.5\n",
       "2. 7.5\n",
       "3. 4.75\n",
       "\n",
       "\n"
      ],
      "text/plain": [
       "[[1]]\n",
       "[1] 7.5\n",
       "\n",
       "[[2]]\n",
       "[1] 7.5\n",
       "\n",
       "[[3]]\n",
       "[1] 4.75\n"
      ]
     },
     "metadata": {},
     "output_type": "display_data"
    }
   ],
   "source": [
    "lista.vec <- list(c(9,10,5,6), \n",
    "                    c(9,9,8,4),\n",
    "                    c(4,3,6,6))\n",
    "lapply(lista.vec, mean)"
   ]
  },
  {
   "cell_type": "markdown",
   "metadata": {},
   "source": [
    "**Ejercicio:** De la lista de matrices siguientes, obtén las medias por columnas de cada matriz."
   ]
  },
  {
   "cell_type": "code",
   "execution_count": 20,
   "metadata": {},
   "outputs": [
    {
     "data": {
      "text/html": [
       "<ol>\n",
       "\t<li><ol class=list-inline>\n",
       "\t<li>8.16666666666667</li>\n",
       "\t<li>8.16666666666667</li>\n",
       "\t<li>6.16666666666667</li>\n",
       "\t<li>6.5</li>\n",
       "\t<li>9.5</li>\n",
       "\t<li>7.33333333333333</li>\n",
       "</ol>\n",
       "</li>\n",
       "\t<li><ol class=list-inline>\n",
       "\t<li>10.5</li>\n",
       "\t<li>9.5</li>\n",
       "\t<li>9</li>\n",
       "\t<li>9.66666666666667</li>\n",
       "\t<li>5.33333333333333</li>\n",
       "\t<li>7.66666666666667</li>\n",
       "</ol>\n",
       "</li>\n",
       "\t<li><ol class=list-inline>\n",
       "\t<li>6.66666666666667</li>\n",
       "\t<li>8.33333333333333</li>\n",
       "\t<li>8</li>\n",
       "\t<li>9</li>\n",
       "\t<li>8.5</li>\n",
       "\t<li>10.1666666666667</li>\n",
       "</ol>\n",
       "</li>\n",
       "\t<li><ol class=list-inline>\n",
       "\t<li>5.83333333333333</li>\n",
       "\t<li>9.5</li>\n",
       "\t<li>8</li>\n",
       "\t<li>10.1666666666667</li>\n",
       "\t<li>7.66666666666667</li>\n",
       "\t<li>9</li>\n",
       "</ol>\n",
       "</li>\n",
       "</ol>\n"
      ],
      "text/latex": [
       "\\begin{enumerate}\n",
       "\\item \\begin{enumerate*}\n",
       "\\item 8.16666666666667\n",
       "\\item 8.16666666666667\n",
       "\\item 6.16666666666667\n",
       "\\item 6.5\n",
       "\\item 9.5\n",
       "\\item 7.33333333333333\n",
       "\\end{enumerate*}\n",
       "\n",
       "\\item \\begin{enumerate*}\n",
       "\\item 10.5\n",
       "\\item 9.5\n",
       "\\item 9\n",
       "\\item 9.66666666666667\n",
       "\\item 5.33333333333333\n",
       "\\item 7.66666666666667\n",
       "\\end{enumerate*}\n",
       "\n",
       "\\item \\begin{enumerate*}\n",
       "\\item 6.66666666666667\n",
       "\\item 8.33333333333333\n",
       "\\item 8\n",
       "\\item 9\n",
       "\\item 8.5\n",
       "\\item 10.1666666666667\n",
       "\\end{enumerate*}\n",
       "\n",
       "\\item \\begin{enumerate*}\n",
       "\\item 5.83333333333333\n",
       "\\item 9.5\n",
       "\\item 8\n",
       "\\item 10.1666666666667\n",
       "\\item 7.66666666666667\n",
       "\\item 9\n",
       "\\end{enumerate*}\n",
       "\n",
       "\\end{enumerate}\n"
      ],
      "text/markdown": [
       "1. 1. 8.16666666666667\n",
       "2. 8.16666666666667\n",
       "3. 6.16666666666667\n",
       "4. 6.5\n",
       "5. 9.5\n",
       "6. 7.33333333333333\n",
       "\n",
       "\n",
       "\n",
       "2. 1. 10.5\n",
       "2. 9.5\n",
       "3. 9\n",
       "4. 9.66666666666667\n",
       "5. 5.33333333333333\n",
       "6. 7.66666666666667\n",
       "\n",
       "\n",
       "\n",
       "3. 1. 6.66666666666667\n",
       "2. 8.33333333333333\n",
       "3. 8\n",
       "4. 9\n",
       "5. 8.5\n",
       "6. 10.1666666666667\n",
       "\n",
       "\n",
       "\n",
       "4. 1. 5.83333333333333\n",
       "2. 9.5\n",
       "3. 8\n",
       "4. 10.1666666666667\n",
       "5. 7.66666666666667\n",
       "6. 9\n",
       "\n",
       "\n",
       "\n",
       "\n",
       "\n"
      ],
      "text/plain": [
       "[[1]]\n",
       "[1] 8.166667 8.166667 6.166667 6.500000 9.500000 7.333333\n",
       "\n",
       "[[2]]\n",
       "[1] 10.500000  9.500000  9.000000  9.666667  5.333333  7.666667\n",
       "\n",
       "[[3]]\n",
       "[1]  6.666667  8.333333  8.000000  9.000000  8.500000 10.166667\n",
       "\n",
       "[[4]]\n",
       "[1]  5.833333  9.500000  8.000000 10.166667  7.666667  9.000000\n"
      ]
     },
     "metadata": {},
     "output_type": "display_data"
    }
   ],
   "source": [
    "lista.mat <- replicate(replicate(expr = sample(1:15, size = 6),n = 6,), n = 4 , simplify = F) \n",
    "# simplify = FALSE no simplifica en un array\n",
    "\n",
    "lapply(lista.mat, colMeans)"
   ]
  },
  {
   "cell_type": "markdown",
   "metadata": {},
   "source": [
    "Debe tenerse en cuenta que: \n",
    "\n",
    "1. El objeto devuelto siempre es una lista, incluso aunque el objeto sobre el que iteramos no lo sea. Lo podemos ver con nuestro ejemplo inicial:"
   ]
  },
  {
   "cell_type": "code",
   "execution_count": 21,
   "metadata": {},
   "outputs": [
    {
     "data": {
      "text/html": [
       "TRUE"
      ],
      "text/latex": [
       "TRUE"
      ],
      "text/markdown": [
       "TRUE"
      ],
      "text/plain": [
       "[1] TRUE"
      ]
     },
     "metadata": {},
     "output_type": "display_data"
    }
   ],
   "source": [
    "is.list(lapply(nombres, tolower))"
   ]
  },
  {
   "cell_type": "markdown",
   "metadata": {},
   "source": [
    "2. Si se aplica `lapply()` a una matriz esta tratará como un vector, i.e. elemento a elemento.\n",
    "\n",
    "**Ejemplo:**"
   ]
  },
  {
   "cell_type": "code",
   "execution_count": 22,
   "metadata": {
    "scrolled": true
   },
   "outputs": [
    {
     "data": {
      "text/html": [
       "<ol>\n",
       "\t<li>4</li>\n",
       "\t<li>6</li>\n",
       "\t<li>8</li>\n",
       "\t<li>11</li>\n",
       "\t<li>3</li>\n",
       "\t<li>9</li>\n",
       "\t<li>&lt;NA&gt;</li>\n",
       "\t<li>10</li>\n",
       "\t<li>&lt;NA&gt;</li>\n",
       "\t<li>1</li>\n",
       "\t<li>3</li>\n",
       "\t<li>2</li>\n",
       "\t<li>11</li>\n",
       "\t<li>6</li>\n",
       "\t<li>15</li>\n",
       "\t<li>14</li>\n",
       "\t<li>8</li>\n",
       "\t<li>10</li>\n",
       "\t<li>6</li>\n",
       "\t<li>11</li>\n",
       "\t<li>13</li>\n",
       "\t<li>3</li>\n",
       "\t<li>8</li>\n",
       "\t<li>2</li>\n",
       "\t<li>5</li>\n",
       "\t<li>6</li>\n",
       "\t<li>1</li>\n",
       "\t<li>15</li>\n",
       "\t<li>10</li>\n",
       "\t<li>4</li>\n",
       "\t<li>8</li>\n",
       "\t<li>9</li>\n",
       "\t<li>7</li>\n",
       "\t<li>&lt;NA&gt;</li>\n",
       "\t<li>10</li>\n",
       "\t<li>13</li>\n",
       "</ol>\n"
      ],
      "text/latex": [
       "\\begin{enumerate}\n",
       "\\item 4\n",
       "\\item 6\n",
       "\\item 8\n",
       "\\item 11\n",
       "\\item 3\n",
       "\\item 9\n",
       "\\item <NA>\n",
       "\\item 10\n",
       "\\item <NA>\n",
       "\\item 1\n",
       "\\item 3\n",
       "\\item 2\n",
       "\\item 11\n",
       "\\item 6\n",
       "\\item 15\n",
       "\\item 14\n",
       "\\item 8\n",
       "\\item 10\n",
       "\\item 6\n",
       "\\item 11\n",
       "\\item 13\n",
       "\\item 3\n",
       "\\item 8\n",
       "\\item 2\n",
       "\\item 5\n",
       "\\item 6\n",
       "\\item 1\n",
       "\\item 15\n",
       "\\item 10\n",
       "\\item 4\n",
       "\\item 8\n",
       "\\item 9\n",
       "\\item 7\n",
       "\\item <NA>\n",
       "\\item 10\n",
       "\\item 13\n",
       "\\end{enumerate}\n"
      ],
      "text/markdown": [
       "1. 4\n",
       "2. 6\n",
       "3. 8\n",
       "4. 11\n",
       "5. 3\n",
       "6. 9\n",
       "7. &lt;NA&gt;\n",
       "8. 10\n",
       "9. &lt;NA&gt;\n",
       "10. 1\n",
       "11. 3\n",
       "12. 2\n",
       "13. 11\n",
       "14. 6\n",
       "15. 15\n",
       "16. 14\n",
       "17. 8\n",
       "18. 10\n",
       "19. 6\n",
       "20. 11\n",
       "21. 13\n",
       "22. 3\n",
       "23. 8\n",
       "24. 2\n",
       "25. 5\n",
       "26. 6\n",
       "27. 1\n",
       "28. 15\n",
       "29. 10\n",
       "30. 4\n",
       "31. 8\n",
       "32. 9\n",
       "33. 7\n",
       "34. &lt;NA&gt;\n",
       "35. 10\n",
       "36. 13\n",
       "\n",
       "\n"
      ],
      "text/plain": [
       "[[1]]\n",
       "[1] 4\n",
       "\n",
       "[[2]]\n",
       "[1] 6\n",
       "\n",
       "[[3]]\n",
       "[1] 8\n",
       "\n",
       "[[4]]\n",
       "[1] 11\n",
       "\n",
       "[[5]]\n",
       "[1] 3\n",
       "\n",
       "[[6]]\n",
       "[1] 9\n",
       "\n",
       "[[7]]\n",
       "[1] NA\n",
       "\n",
       "[[8]]\n",
       "[1] 10\n",
       "\n",
       "[[9]]\n",
       "[1] NA\n",
       "\n",
       "[[10]]\n",
       "[1] 1\n",
       "\n",
       "[[11]]\n",
       "[1] 3\n",
       "\n",
       "[[12]]\n",
       "[1] 2\n",
       "\n",
       "[[13]]\n",
       "[1] 11\n",
       "\n",
       "[[14]]\n",
       "[1] 6\n",
       "\n",
       "[[15]]\n",
       "[1] 15\n",
       "\n",
       "[[16]]\n",
       "[1] 14\n",
       "\n",
       "[[17]]\n",
       "[1] 8\n",
       "\n",
       "[[18]]\n",
       "[1] 10\n",
       "\n",
       "[[19]]\n",
       "[1] 6\n",
       "\n",
       "[[20]]\n",
       "[1] 11\n",
       "\n",
       "[[21]]\n",
       "[1] 13\n",
       "\n",
       "[[22]]\n",
       "[1] 3\n",
       "\n",
       "[[23]]\n",
       "[1] 8\n",
       "\n",
       "[[24]]\n",
       "[1] 2\n",
       "\n",
       "[[25]]\n",
       "[1] 5\n",
       "\n",
       "[[26]]\n",
       "[1] 6\n",
       "\n",
       "[[27]]\n",
       "[1] 1\n",
       "\n",
       "[[28]]\n",
       "[1] 15\n",
       "\n",
       "[[29]]\n",
       "[1] 10\n",
       "\n",
       "[[30]]\n",
       "[1] 4\n",
       "\n",
       "[[31]]\n",
       "[1] 8\n",
       "\n",
       "[[32]]\n",
       "[1] 9\n",
       "\n",
       "[[33]]\n",
       "[1] 7\n",
       "\n",
       "[[34]]\n",
       "[1] NA\n",
       "\n",
       "[[35]]\n",
       "[1] 10\n",
       "\n",
       "[[36]]\n",
       "[1] 13\n"
      ]
     },
     "metadata": {},
     "output_type": "display_data"
    }
   ],
   "source": [
    "lapply(A, mean)"
   ]
  },
  {
   "cell_type": "markdown",
   "metadata": {},
   "source": [
    "3. Si se aplica sobre un `data.frame` éste se iterará por columnas."
   ]
  },
  {
   "cell_type": "markdown",
   "metadata": {},
   "source": [
    "**Ejercicio:** Del `data.frame` `alumnos`, verifica si hay alguien que se llame \"jose\" e identifica la clase en la que se encuentra, esta vez utilizando `lapply()`:"
   ]
  },
  {
   "cell_type": "code",
   "execution_count": 23,
   "metadata": {},
   "outputs": [
    {
     "data": {
      "text/html": [
       "<dl>\n",
       "\t<dt>$fisica</dt>\n",
       "\t\t<dd>TRUE</dd>\n",
       "\t<dt>$matematicas</dt>\n",
       "\t\t<dd>TRUE</dd>\n",
       "\t<dt>$biologia</dt>\n",
       "\t\t<dd>FALSE</dd>\n",
       "</dl>\n"
      ],
      "text/latex": [
       "\\begin{description}\n",
       "\\item[\\$fisica] TRUE\n",
       "\\item[\\$matematicas] TRUE\n",
       "\\item[\\$biologia] FALSE\n",
       "\\end{description}\n"
      ],
      "text/markdown": [
       "$fisica\n",
       ":   TRUE\n",
       "$matematicas\n",
       ":   TRUE\n",
       "$biologia\n",
       ":   FALSE\n",
       "\n",
       "\n"
      ],
      "text/plain": [
       "$fisica\n",
       "[1] TRUE\n",
       "\n",
       "$matematicas\n",
       "[1] TRUE\n",
       "\n",
       "$biologia\n",
       "[1] FALSE\n"
      ]
     },
     "metadata": {},
     "output_type": "display_data"
    }
   ],
   "source": [
    "lapply(alumnos, function(x) {return(is.element('jose', x))})"
   ]
  },
  {
   "cell_type": "markdown",
   "metadata": {},
   "source": [
    "**Ejercicio:** La lista siguiente no es homogénea. Verifica elemento a elemento si el segundo elemento de la sublista es un `data.frame`. Si no lo es, conviértelo en uno y marca la primera variable de cada lista como `\"ndf\"`. Si lo es, márcala como `\"df\"`."
   ]
  },
  {
   "cell_type": "code",
   "execution_count": 25,
   "metadata": {
    "scrolled": false
   },
   "outputs": [
    {
     "data": {
      "text/html": [
       "<ol>\n",
       "\t<li><ol>\n",
       "\t<li>'df'</li>\n",
       "\t<li><table>\n",
       "<thead><tr><th scope=col>V1</th><th scope=col>V2</th><th scope=col>V3</th><th scope=col>V4</th><th scope=col>V5</th><th scope=col>V6</th></tr></thead>\n",
       "<tbody>\n",
       "\t<tr><td>13</td><td> 6</td><td> 2</td><td>12</td><td> 6</td><td>15</td></tr>\n",
       "\t<tr><td> 8</td><td>14</td><td> 8</td><td>10</td><td> 7</td><td>14</td></tr>\n",
       "\t<tr><td> 9</td><td> 9</td><td>13</td><td>11</td><td>11</td><td> 5</td></tr>\n",
       "\t<tr><td> 5</td><td> 1</td><td> 9</td><td> 8</td><td>12</td><td>13</td></tr>\n",
       "\t<tr><td>10</td><td> 7</td><td> 7</td><td> 6</td><td> 2</td><td>11</td></tr>\n",
       "\t<tr><td>14</td><td> 5</td><td> 3</td><td> 5</td><td> 8</td><td> 2</td></tr>\n",
       "</tbody>\n",
       "</table>\n",
       "</li>\n",
       "</ol>\n",
       "</li>\n",
       "\t<li><ol>\n",
       "\t<li>'ndf'</li>\n",
       "\t<li><table>\n",
       "<thead><tr><th scope=col>V1</th><th scope=col>V2</th><th scope=col>V3</th><th scope=col>V4</th><th scope=col>V5</th><th scope=col>V6</th></tr></thead>\n",
       "<tbody>\n",
       "\t<tr><td>15</td><td> 3</td><td>9 </td><td> 8</td><td> 7</td><td>14</td></tr>\n",
       "\t<tr><td> 5</td><td> 5</td><td>2 </td><td>14</td><td> 5</td><td> 5</td></tr>\n",
       "\t<tr><td> 7</td><td> 9</td><td>5 </td><td>12</td><td> 2</td><td>13</td></tr>\n",
       "\t<tr><td>13</td><td> 1</td><td>8 </td><td> 5</td><td> 1</td><td> 3</td></tr>\n",
       "\t<tr><td> 8</td><td>10</td><td>3 </td><td> 4</td><td> 8</td><td> 9</td></tr>\n",
       "\t<tr><td>14</td><td>15</td><td>7 </td><td> 9</td><td>15</td><td>12</td></tr>\n",
       "</tbody>\n",
       "</table>\n",
       "</li>\n",
       "</ol>\n",
       "</li>\n",
       "\t<li><ol>\n",
       "\t<li>'df'</li>\n",
       "\t<li><table>\n",
       "<thead><tr><th scope=col>V1</th><th scope=col>V2</th><th scope=col>V3</th><th scope=col>V4</th><th scope=col>V5</th><th scope=col>V6</th></tr></thead>\n",
       "<tbody>\n",
       "\t<tr><td> 1</td><td> 6</td><td>12</td><td> 6</td><td>12</td><td> 6</td></tr>\n",
       "\t<tr><td>13</td><td>15</td><td>13</td><td> 9</td><td> 8</td><td> 2</td></tr>\n",
       "\t<tr><td> 9</td><td> 8</td><td> 5</td><td>12</td><td>11</td><td> 4</td></tr>\n",
       "\t<tr><td>12</td><td> 2</td><td>10</td><td> 3</td><td> 7</td><td>13</td></tr>\n",
       "\t<tr><td> 8</td><td> 3</td><td> 1</td><td> 5</td><td> 6</td><td> 9</td></tr>\n",
       "\t<tr><td>14</td><td>14</td><td> 7</td><td> 7</td><td> 5</td><td> 8</td></tr>\n",
       "</tbody>\n",
       "</table>\n",
       "</li>\n",
       "</ol>\n",
       "</li>\n",
       "\t<li><ol>\n",
       "\t<li>'ndf'</li>\n",
       "\t<li><table>\n",
       "<thead><tr><th scope=col>V1</th><th scope=col>V2</th><th scope=col>V3</th><th scope=col>V4</th><th scope=col>V5</th><th scope=col>V6</th></tr></thead>\n",
       "<tbody>\n",
       "\t<tr><td> 3</td><td> 1</td><td> 7</td><td>14</td><td> 7</td><td> 2</td></tr>\n",
       "\t<tr><td> 8</td><td>13</td><td> 8</td><td>13</td><td> 8</td><td>11</td></tr>\n",
       "\t<tr><td>14</td><td> 2</td><td>11</td><td>10</td><td>13</td><td> 6</td></tr>\n",
       "\t<tr><td> 7</td><td> 7</td><td> 3</td><td> 9</td><td> 9</td><td>13</td></tr>\n",
       "\t<tr><td> 5</td><td>10</td><td>13</td><td> 8</td><td>14</td><td> 1</td></tr>\n",
       "\t<tr><td>11</td><td> 6</td><td> 5</td><td> 1</td><td> 5</td><td>15</td></tr>\n",
       "</tbody>\n",
       "</table>\n",
       "</li>\n",
       "</ol>\n",
       "</li>\n",
       "</ol>\n"
      ],
      "text/latex": [
       "\\begin{enumerate}\n",
       "\\item \\begin{enumerate}\n",
       "\\item 'df'\n",
       "\\item \\begin{tabular}{r|llllll}\n",
       " V1 & V2 & V3 & V4 & V5 & V6\\\\\n",
       "\\hline\n",
       "\t 13 &  6 &  2 & 12 &  6 & 15\\\\\n",
       "\t  8 & 14 &  8 & 10 &  7 & 14\\\\\n",
       "\t  9 &  9 & 13 & 11 & 11 &  5\\\\\n",
       "\t  5 &  1 &  9 &  8 & 12 & 13\\\\\n",
       "\t 10 &  7 &  7 &  6 &  2 & 11\\\\\n",
       "\t 14 &  5 &  3 &  5 &  8 &  2\\\\\n",
       "\\end{tabular}\n",
       "\n",
       "\\end{enumerate}\n",
       "\n",
       "\\item \\begin{enumerate}\n",
       "\\item 'ndf'\n",
       "\\item \\begin{tabular}{r|llllll}\n",
       " V1 & V2 & V3 & V4 & V5 & V6\\\\\n",
       "\\hline\n",
       "\t 15 &  3 & 9  &  8 &  7 & 14\\\\\n",
       "\t  5 &  5 & 2  & 14 &  5 &  5\\\\\n",
       "\t  7 &  9 & 5  & 12 &  2 & 13\\\\\n",
       "\t 13 &  1 & 8  &  5 &  1 &  3\\\\\n",
       "\t  8 & 10 & 3  &  4 &  8 &  9\\\\\n",
       "\t 14 & 15 & 7  &  9 & 15 & 12\\\\\n",
       "\\end{tabular}\n",
       "\n",
       "\\end{enumerate}\n",
       "\n",
       "\\item \\begin{enumerate}\n",
       "\\item 'df'\n",
       "\\item \\begin{tabular}{r|llllll}\n",
       " V1 & V2 & V3 & V4 & V5 & V6\\\\\n",
       "\\hline\n",
       "\t  1 &  6 & 12 &  6 & 12 &  6\\\\\n",
       "\t 13 & 15 & 13 &  9 &  8 &  2\\\\\n",
       "\t  9 &  8 &  5 & 12 & 11 &  4\\\\\n",
       "\t 12 &  2 & 10 &  3 &  7 & 13\\\\\n",
       "\t  8 &  3 &  1 &  5 &  6 &  9\\\\\n",
       "\t 14 & 14 &  7 &  7 &  5 &  8\\\\\n",
       "\\end{tabular}\n",
       "\n",
       "\\end{enumerate}\n",
       "\n",
       "\\item \\begin{enumerate}\n",
       "\\item 'ndf'\n",
       "\\item \\begin{tabular}{r|llllll}\n",
       " V1 & V2 & V3 & V4 & V5 & V6\\\\\n",
       "\\hline\n",
       "\t  3 &  1 &  7 & 14 &  7 &  2\\\\\n",
       "\t  8 & 13 &  8 & 13 &  8 & 11\\\\\n",
       "\t 14 &  2 & 11 & 10 & 13 &  6\\\\\n",
       "\t  7 &  7 &  3 &  9 &  9 & 13\\\\\n",
       "\t  5 & 10 & 13 &  8 & 14 &  1\\\\\n",
       "\t 11 &  6 &  5 &  1 &  5 & 15\\\\\n",
       "\\end{tabular}\n",
       "\n",
       "\\end{enumerate}\n",
       "\n",
       "\\end{enumerate}\n"
      ],
      "text/markdown": [
       "1. 1. 'df'\n",
       "2. \n",
       "V1 | V2 | V3 | V4 | V5 | V6 | \n",
       "|---|---|---|---|---|---|\n",
       "| 13 |  6 |  2 | 12 |  6 | 15 | \n",
       "|  8 | 14 |  8 | 10 |  7 | 14 | \n",
       "|  9 |  9 | 13 | 11 | 11 |  5 | \n",
       "|  5 |  1 |  9 |  8 | 12 | 13 | \n",
       "| 10 |  7 |  7 |  6 |  2 | 11 | \n",
       "| 14 |  5 |  3 |  5 |  8 |  2 | \n",
       "\n",
       "\n",
       "\n",
       "\n",
       "\n",
       "\n",
       "2. 1. 'ndf'\n",
       "2. \n",
       "V1 | V2 | V3 | V4 | V5 | V6 | \n",
       "|---|---|---|---|---|---|\n",
       "| 15 |  3 | 9  |  8 |  7 | 14 | \n",
       "|  5 |  5 | 2  | 14 |  5 |  5 | \n",
       "|  7 |  9 | 5  | 12 |  2 | 13 | \n",
       "| 13 |  1 | 8  |  5 |  1 |  3 | \n",
       "|  8 | 10 | 3  |  4 |  8 |  9 | \n",
       "| 14 | 15 | 7  |  9 | 15 | 12 | \n",
       "\n",
       "\n",
       "\n",
       "\n",
       "\n",
       "\n",
       "3. 1. 'df'\n",
       "2. \n",
       "V1 | V2 | V3 | V4 | V5 | V6 | \n",
       "|---|---|---|---|---|---|\n",
       "|  1 |  6 | 12 |  6 | 12 |  6 | \n",
       "| 13 | 15 | 13 |  9 |  8 |  2 | \n",
       "|  9 |  8 |  5 | 12 | 11 |  4 | \n",
       "| 12 |  2 | 10 |  3 |  7 | 13 | \n",
       "|  8 |  3 |  1 |  5 |  6 |  9 | \n",
       "| 14 | 14 |  7 |  7 |  5 |  8 | \n",
       "\n",
       "\n",
       "\n",
       "\n",
       "\n",
       "\n",
       "4. 1. 'ndf'\n",
       "2. \n",
       "V1 | V2 | V3 | V4 | V5 | V6 | \n",
       "|---|---|---|---|---|---|\n",
       "|  3 |  1 |  7 | 14 |  7 |  2 | \n",
       "|  8 | 13 |  8 | 13 |  8 | 11 | \n",
       "| 14 |  2 | 11 | 10 | 13 |  6 | \n",
       "|  7 |  7 |  3 |  9 |  9 | 13 | \n",
       "|  5 | 10 | 13 |  8 | 14 |  1 | \n",
       "| 11 |  6 |  5 |  1 |  5 | 15 | \n",
       "\n",
       "\n",
       "\n",
       "\n",
       "\n",
       "\n",
       "\n",
       "\n"
      ],
      "text/plain": [
       "[[1]]\n",
       "[[1]][[1]]\n",
       "[1] \"df\"\n",
       "\n",
       "[[1]][[2]]\n",
       "  V1 V2 V3 V4 V5 V6\n",
       "1 13  6  2 12  6 15\n",
       "2  8 14  8 10  7 14\n",
       "3  9  9 13 11 11  5\n",
       "4  5  1  9  8 12 13\n",
       "5 10  7  7  6  2 11\n",
       "6 14  5  3  5  8  2\n",
       "\n",
       "\n",
       "[[2]]\n",
       "[[2]][[1]]\n",
       "[1] \"ndf\"\n",
       "\n",
       "[[2]][[2]]\n",
       "  V1 V2 V3 V4 V5 V6\n",
       "1 15  3  9  8  7 14\n",
       "2  5  5  2 14  5  5\n",
       "3  7  9  5 12  2 13\n",
       "4 13  1  8  5  1  3\n",
       "5  8 10  3  4  8  9\n",
       "6 14 15  7  9 15 12\n",
       "\n",
       "\n",
       "[[3]]\n",
       "[[3]][[1]]\n",
       "[1] \"df\"\n",
       "\n",
       "[[3]][[2]]\n",
       "  V1 V2 V3 V4 V5 V6\n",
       "1  1  6 12  6 12  6\n",
       "2 13 15 13  9  8  2\n",
       "3  9  8  5 12 11  4\n",
       "4 12  2 10  3  7 13\n",
       "5  8  3  1  5  6  9\n",
       "6 14 14  7  7  5  8\n",
       "\n",
       "\n",
       "[[4]]\n",
       "[[4]][[1]]\n",
       "[1] \"ndf\"\n",
       "\n",
       "[[4]][[2]]\n",
       "  V1 V2 V3 V4 V5 V6\n",
       "1  3  1  7 14  7  2\n",
       "2  8 13  8 13  8 11\n",
       "3 14  2 11 10 13  6\n",
       "4  7  7  3  9  9 13\n",
       "5  5 10 13  8 14  1\n",
       "6 11  6  5  1  5 15\n",
       "\n"
      ]
     },
     "metadata": {},
     "output_type": "display_data"
    }
   ],
   "source": [
    "lista.vars <-list(\n",
    "             list(\"df\", as.data.frame(replicate(sample(1:15, 6),n = 6))),\n",
    "             list(\"var3\", replicate(sample(1:15, 6),n = 6)),\n",
    "             list(\"t\", as.data.frame(replicate(sample(1:15, 6),n = 6))),\n",
    "             list(\"loc\", replicate(sample(1:15, 6),n = 6))\n",
    "             )\n",
    "\n",
    "lapply(lista.vars, function(x) {\n",
    "    if (is.data.frame(x[[2]]))\n",
    "        return(list('df', x[[2]]))\n",
    "    else\n",
    "        return(list('ndf', as.data.frame(x[[2]])))\n",
    "    return()\n",
    "})"
   ]
  },
  {
   "cell_type": "markdown",
   "metadata": {},
   "source": [
    "---\n",
    "#### `sapply()` "
   ]
  },
  {
   "cell_type": "markdown",
   "metadata": {},
   "source": [
    "La función `sapply()` es idéntica a `lapply()`, pero trata de simplificar el resultado a un vector, matriz o array. Si la salida es de una dimensión, lo convertirá a un vector, si es una matriz a una matriz (utiliza internamente la función `simplify2array()`). Como **ejemplo:**"
   ]
  },
  {
   "cell_type": "code",
   "execution_count": 39,
   "metadata": {},
   "outputs": [
    {
     "data": {
      "text/html": [
       "TRUE"
      ],
      "text/latex": [
       "TRUE"
      ],
      "text/markdown": [
       "TRUE"
      ],
      "text/plain": [
       "[1] TRUE"
      ]
     },
     "metadata": {},
     "output_type": "display_data"
    }
   ],
   "source": [
    "is.vector(sapply(nombres, tolower))"
   ]
  },
  {
   "cell_type": "code",
   "execution_count": 40,
   "metadata": {},
   "outputs": [
    {
     "data": {
      "text/html": [
       "FALSE"
      ],
      "text/latex": [
       "FALSE"
      ],
      "text/markdown": [
       "FALSE"
      ],
      "text/plain": [
       "[1] FALSE"
      ]
     },
     "metadata": {},
     "output_type": "display_data"
    }
   ],
   "source": [
    "is.list(sapply(nombres, tolower))"
   ]
  },
  {
   "cell_type": "markdown",
   "metadata": {},
   "source": [
    "`sapply()` tiene dos argumentos adicionales respecto a `lapply()`:\n",
    "- `simplify` Si se especifica `simplify = FALSE`, entonces es idéntico a `lapply()`.\n",
    "- `USE.NAMES` Si se especifica `USE.NAMES = TRUE` (por defecto), y `X` es de tipo `character`, se usan estos como nombres para el output."
   ]
  },
  {
   "cell_type": "markdown",
   "metadata": {},
   "source": [
    "**Ejercicio:** Verifica el output de los dos ejercicios anteriores cuando en vez de `lapply()` se utiliza `sapply()`"
   ]
  },
  {
   "cell_type": "code",
   "execution_count": 171,
   "metadata": {},
   "outputs": [
    {
     "data": {
      "text/html": [
       "<dl class=dl-horizontal>\n",
       "\t<dt>fisica</dt>\n",
       "\t\t<dd>TRUE</dd>\n",
       "\t<dt>matematicas</dt>\n",
       "\t\t<dd>TRUE</dd>\n",
       "\t<dt>biologia</dt>\n",
       "\t\t<dd>FALSE</dd>\n",
       "</dl>\n"
      ],
      "text/latex": [
       "\\begin{description*}\n",
       "\\item[fisica] TRUE\n",
       "\\item[matematicas] TRUE\n",
       "\\item[biologia] FALSE\n",
       "\\end{description*}\n"
      ],
      "text/markdown": [
       "fisica\n",
       ":   TRUEmatematicas\n",
       ":   TRUEbiologia\n",
       ":   FALSE\n",
       "\n"
      ],
      "text/plain": [
       "     fisica matematicas    biologia \n",
       "       TRUE        TRUE       FALSE "
      ]
     },
     "metadata": {},
     "output_type": "display_data"
    },
    {
     "data": {
      "text/html": [
       "TRUE"
      ],
      "text/latex": [
       "TRUE"
      ],
      "text/markdown": [
       "TRUE"
      ],
      "text/plain": [
       "[1] TRUE"
      ]
     },
     "metadata": {},
     "output_type": "display_data"
    }
   ],
   "source": [
    "aux <- sapply(alumnos, function(x) {return(is.element('jose', x))})\n",
    "aux\n",
    "is.vector(aux)"
   ]
  },
  {
   "cell_type": "code",
   "execution_count": 52,
   "metadata": {},
   "outputs": [
    {
     "data": {
      "text/html": [
       "<table>\n",
       "<tbody>\n",
       "\t<tr><td>df </td><td>ndf</td><td>df </td><td>ndf</td></tr>\n",
       "\t<tr><td>13, 8, 9, 5, 10, 14, 6, 14, 9, 1, 7, 5, 2, 8, 13, 9, 7, 3, 12, 10, 11, 8, 6, 5, 6, 7, 11, 12, 2, 8, 15, 14, 5, 13, 11, 2</td><td>15, 5, 7, 13, 8, 14, 3, 5, 9, 1, 10, 15, 9, 2, 5, 8, 3, 7, 8, 14, 12, 5, 4, 9, 7, 5, 2, 1, 8, 15, 14, 5, 13, 3, 9, 12   </td><td>1, 13, 9, 12, 8, 14, 6, 15, 8, 2, 3, 14, 12, 13, 5, 10, 1, 7, 6, 9, 12, 3, 5, 7, 12, 8, 11, 7, 6, 5, 6, 2, 4, 13, 9, 8  </td><td>3, 8, 14, 7, 5, 11, 1, 13, 2, 7, 10, 6, 7, 8, 11, 3, 13, 5, 14, 13, 10, 9, 8, 1, 7, 8, 13, 9, 14, 5, 2, 11, 6, 13, 1, 15</td></tr>\n",
       "</tbody>\n",
       "</table>\n"
      ],
      "text/latex": [
       "\\begin{tabular}{llll}\n",
       "\t df  & ndf & df  & ndf\\\\\n",
       "\t 13, 8, 9, 5, 10, 14, 6, 14, 9, 1, 7, 5, 2, 8, 13, 9, 7, 3, 12, 10, 11, 8, 6, 5, 6, 7, 11, 12, 2, 8, 15, 14, 5, 13, 11, 2 & 15, 5, 7, 13, 8, 14, 3, 5, 9, 1, 10, 15, 9, 2, 5, 8, 3, 7, 8, 14, 12, 5, 4, 9, 7, 5, 2, 1, 8, 15, 14, 5, 13, 3, 9, 12    & 1, 13, 9, 12, 8, 14, 6, 15, 8, 2, 3, 14, 12, 13, 5, 10, 1, 7, 6, 9, 12, 3, 5, 7, 12, 8, 11, 7, 6, 5, 6, 2, 4, 13, 9, 8   & 3, 8, 14, 7, 5, 11, 1, 13, 2, 7, 10, 6, 7, 8, 11, 3, 13, 5, 14, 13, 10, 9, 8, 1, 7, 8, 13, 9, 14, 5, 2, 11, 6, 13, 1, 15\\\\\n",
       "\\end{tabular}\n"
      ],
      "text/markdown": [
       "\n",
       "| df  | ndf | df  | ndf | \n",
       "| 13, 8, 9, 5, 10, 14, 6, 14, 9, 1, 7, 5, 2, 8, 13, 9, 7, 3, 12, 10, 11, 8, 6, 5, 6, 7, 11, 12, 2, 8, 15, 14, 5, 13, 11, 2 | 15, 5, 7, 13, 8, 14, 3, 5, 9, 1, 10, 15, 9, 2, 5, 8, 3, 7, 8, 14, 12, 5, 4, 9, 7, 5, 2, 1, 8, 15, 14, 5, 13, 3, 9, 12    | 1, 13, 9, 12, 8, 14, 6, 15, 8, 2, 3, 14, 12, 13, 5, 10, 1, 7, 6, 9, 12, 3, 5, 7, 12, 8, 11, 7, 6, 5, 6, 2, 4, 13, 9, 8   | 3, 8, 14, 7, 5, 11, 1, 13, 2, 7, 10, 6, 7, 8, 11, 3, 13, 5, 14, 13, 10, 9, 8, 1, 7, 8, 13, 9, 14, 5, 2, 11, 6, 13, 1, 15 | \n",
       "\n",
       "\n"
      ],
      "text/plain": [
       "     [,1]                                                                                                                    \n",
       "[1,] df                                                                                                                      \n",
       "[2,] 13, 8, 9, 5, 10, 14, 6, 14, 9, 1, 7, 5, 2, 8, 13, 9, 7, 3, 12, 10, 11, 8, 6, 5, 6, 7, 11, 12, 2, 8, 15, 14, 5, 13, 11, 2\n",
       "     [,2]                                                                                                                 \n",
       "[1,] ndf                                                                                                                  \n",
       "[2,] 15, 5, 7, 13, 8, 14, 3, 5, 9, 1, 10, 15, 9, 2, 5, 8, 3, 7, 8, 14, 12, 5, 4, 9, 7, 5, 2, 1, 8, 15, 14, 5, 13, 3, 9, 12\n",
       "     [,3]                                                                                                                  \n",
       "[1,] df                                                                                                                    \n",
       "[2,] 1, 13, 9, 12, 8, 14, 6, 15, 8, 2, 3, 14, 12, 13, 5, 10, 1, 7, 6, 9, 12, 3, 5, 7, 12, 8, 11, 7, 6, 5, 6, 2, 4, 13, 9, 8\n",
       "     [,4]                                                                                                                    \n",
       "[1,] ndf                                                                                                                     \n",
       "[2,] 3, 8, 14, 7, 5, 11, 1, 13, 2, 7, 10, 6, 7, 8, 11, 3, 13, 5, 14, 13, 10, 9, 8, 1, 7, 8, 13, 9, 14, 5, 2, 11, 6, 13, 1, 15"
      ]
     },
     "metadata": {},
     "output_type": "display_data"
    }
   ],
   "source": [
    "sapply(lista.vars, function(x) {\n",
    "    if (is.data.frame(x[[2]]))\n",
    "        return(list('df', x[[2]]))\n",
    "    else\n",
    "        return(list('ndf', as.data.frame(x[[2]])))\n",
    "    return()\n",
    "})"
   ]
  },
  {
   "cell_type": "markdown",
   "metadata": {},
   "source": [
    "## `mapply()`"
   ]
  },
  {
   "cell_type": "markdown",
   "metadata": {},
   "source": [
    "Hasta ahora hemos visto cómo vectorizar sobre una lista, matriz, vector. `mapply()`  (*multivariate apply*) permite vectorizar más de un argumento, es decir, aplicar una función sobre múltiples argumentos de manera vectorizada. \n",
    "\n",
    "Sus argumentos son:\n",
    "- `FUN`,\tFunción a aplicar\n",
    "- `...` , Argumentos sobre los que vectorizar.\n",
    "- `MoreArgs`, Lista de argumentos adicionales (no vectorizados).\n",
    "- `SIMPLIFY`, Si se marca como `TRUE`, se intentará *simplificar* el resultado a un vector, matriz o array multidimensional. Funciona análogamente al simplificado de `sapply()`\n",
    "\n",
    "Veamos como funciona con un **ejemplo**:\n",
    "\n",
    "En este caso tenemos dos listas de vectores, y queremos sumar vector a vector. Podemos hacerlo con `mapply()`:"
   ]
  },
  {
   "cell_type": "code",
   "execution_count": 53,
   "metadata": {},
   "outputs": [
    {
     "data": {
      "text/html": [
       "<table>\n",
       "<tbody>\n",
       "\t<tr><td>101 </td><td> 399</td><td>-496</td><td>0   </td></tr>\n",
       "\t<tr><td>201 </td><td> 132</td><td>-308</td><td>0   </td></tr>\n",
       "\t<tr><td>110 </td><td>1342</td><td> 695</td><td>4   </td></tr>\n",
       "\t<tr><td>230 </td><td> 148</td><td>-627</td><td>0   </td></tr>\n",
       "</tbody>\n",
       "</table>\n"
      ],
      "text/latex": [
       "\\begin{tabular}{llll}\n",
       "\t 101  &  399 & -496 & 0   \\\\\n",
       "\t 201  &  132 & -308 & 0   \\\\\n",
       "\t 110  & 1342 &  695 & 4   \\\\\n",
       "\t 230  &  148 & -627 & 0   \\\\\n",
       "\\end{tabular}\n"
      ],
      "text/markdown": [
       "\n",
       "| 101  |  399 | -496 | 0    | \n",
       "| 201  |  132 | -308 | 0    | \n",
       "| 110  | 1342 |  695 | 4    | \n",
       "| 230  |  148 | -627 | 0    | \n",
       "\n",
       "\n"
      ],
      "text/plain": [
       "     [,1] [,2] [,3] [,4]\n",
       "[1,] 101   399 -496 0   \n",
       "[2,] 201   132 -308 0   \n",
       "[3,] 110  1342  695 4   \n",
       "[4,] 230   148 -627 0   "
      ]
     },
     "metadata": {},
     "output_type": "display_data"
    }
   ],
   "source": [
    "lista.vec1 <- list(c(1,1,10,20), c(-1,12,122,44), c(34,12,65,23), c(1,1,2,4))\n",
    "lista.vec2 <- list(c(100,200,100,210), c(400,120,1220,104), c(-530,-320,630,-650), c(-1,-1,2,-4))\n",
    "mapply(FUN = function(x,y) x+y, lista.vec1, lista.vec2)"
   ]
  },
  {
   "cell_type": "markdown",
   "metadata": {},
   "source": [
    "Por defecto `mapply()` simplifica el resultado en una matriz. Podemos evitarlo si especificamos `SIMPLIFY = FALSE`:"
   ]
  },
  {
   "cell_type": "code",
   "execution_count": 54,
   "metadata": {},
   "outputs": [
    {
     "data": {
      "text/html": [
       "<ol>\n",
       "\t<li><ol class=list-inline>\n",
       "\t<li>101</li>\n",
       "\t<li>201</li>\n",
       "\t<li>110</li>\n",
       "\t<li>230</li>\n",
       "</ol>\n",
       "</li>\n",
       "\t<li><ol class=list-inline>\n",
       "\t<li>399</li>\n",
       "\t<li>132</li>\n",
       "\t<li>1342</li>\n",
       "\t<li>148</li>\n",
       "</ol>\n",
       "</li>\n",
       "\t<li><ol class=list-inline>\n",
       "\t<li>-496</li>\n",
       "\t<li>-308</li>\n",
       "\t<li>695</li>\n",
       "\t<li>-627</li>\n",
       "</ol>\n",
       "</li>\n",
       "\t<li><ol class=list-inline>\n",
       "\t<li>0</li>\n",
       "\t<li>0</li>\n",
       "\t<li>4</li>\n",
       "\t<li>0</li>\n",
       "</ol>\n",
       "</li>\n",
       "</ol>\n"
      ],
      "text/latex": [
       "\\begin{enumerate}\n",
       "\\item \\begin{enumerate*}\n",
       "\\item 101\n",
       "\\item 201\n",
       "\\item 110\n",
       "\\item 230\n",
       "\\end{enumerate*}\n",
       "\n",
       "\\item \\begin{enumerate*}\n",
       "\\item 399\n",
       "\\item 132\n",
       "\\item 1342\n",
       "\\item 148\n",
       "\\end{enumerate*}\n",
       "\n",
       "\\item \\begin{enumerate*}\n",
       "\\item -496\n",
       "\\item -308\n",
       "\\item 695\n",
       "\\item -627\n",
       "\\end{enumerate*}\n",
       "\n",
       "\\item \\begin{enumerate*}\n",
       "\\item 0\n",
       "\\item 0\n",
       "\\item 4\n",
       "\\item 0\n",
       "\\end{enumerate*}\n",
       "\n",
       "\\end{enumerate}\n"
      ],
      "text/markdown": [
       "1. 1. 101\n",
       "2. 201\n",
       "3. 110\n",
       "4. 230\n",
       "\n",
       "\n",
       "\n",
       "2. 1. 399\n",
       "2. 132\n",
       "3. 1342\n",
       "4. 148\n",
       "\n",
       "\n",
       "\n",
       "3. 1. -496\n",
       "2. -308\n",
       "3. 695\n",
       "4. -627\n",
       "\n",
       "\n",
       "\n",
       "4. 1. 0\n",
       "2. 0\n",
       "3. 4\n",
       "4. 0\n",
       "\n",
       "\n",
       "\n",
       "\n",
       "\n"
      ],
      "text/plain": [
       "[[1]]\n",
       "[1] 101 201 110 230\n",
       "\n",
       "[[2]]\n",
       "[1]  399  132 1342  148\n",
       "\n",
       "[[3]]\n",
       "[1] -496 -308  695 -627\n",
       "\n",
       "[[4]]\n",
       "[1] 0 0 4 0\n"
      ]
     },
     "metadata": {},
     "output_type": "display_data"
    }
   ],
   "source": [
    "mapply(FUN = function(x,y) x+y, lista.vec1, lista.vec2, SIMPLIFY = FALSE)"
   ]
  },
  {
   "cell_type": "markdown",
   "metadata": {},
   "source": [
    "La manera de asignar argumentos adicionales es mediante el argumento `MoreArgs` (Cuidado, debe ser una lista). \n",
    "\n",
    "**Ejemplo:** Supongamos que tenemos una función que suma y admite un tercer argumento `absoluto`, que hace que sume y tome el valor absoluto si éste es igual a `TRUE`. Queremos especificarlo como `TRUE`, para todas las sumas que haga la función:"
   ]
  },
  {
   "cell_type": "code",
   "execution_count": 55,
   "metadata": {},
   "outputs": [
    {
     "data": {
      "text/html": [
       "<ol>\n",
       "\t<li><ol class=list-inline>\n",
       "\t<li>101</li>\n",
       "\t<li>201</li>\n",
       "\t<li>110</li>\n",
       "\t<li>230</li>\n",
       "</ol>\n",
       "</li>\n",
       "\t<li><ol class=list-inline>\n",
       "\t<li>399</li>\n",
       "\t<li>132</li>\n",
       "\t<li>1342</li>\n",
       "\t<li>148</li>\n",
       "</ol>\n",
       "</li>\n",
       "\t<li><ol class=list-inline>\n",
       "\t<li>496</li>\n",
       "\t<li>308</li>\n",
       "\t<li>695</li>\n",
       "\t<li>627</li>\n",
       "</ol>\n",
       "</li>\n",
       "\t<li><ol class=list-inline>\n",
       "\t<li>0</li>\n",
       "\t<li>0</li>\n",
       "\t<li>4</li>\n",
       "\t<li>0</li>\n",
       "</ol>\n",
       "</li>\n",
       "</ol>\n"
      ],
      "text/latex": [
       "\\begin{enumerate}\n",
       "\\item \\begin{enumerate*}\n",
       "\\item 101\n",
       "\\item 201\n",
       "\\item 110\n",
       "\\item 230\n",
       "\\end{enumerate*}\n",
       "\n",
       "\\item \\begin{enumerate*}\n",
       "\\item 399\n",
       "\\item 132\n",
       "\\item 1342\n",
       "\\item 148\n",
       "\\end{enumerate*}\n",
       "\n",
       "\\item \\begin{enumerate*}\n",
       "\\item 496\n",
       "\\item 308\n",
       "\\item 695\n",
       "\\item 627\n",
       "\\end{enumerate*}\n",
       "\n",
       "\\item \\begin{enumerate*}\n",
       "\\item 0\n",
       "\\item 0\n",
       "\\item 4\n",
       "\\item 0\n",
       "\\end{enumerate*}\n",
       "\n",
       "\\end{enumerate}\n"
      ],
      "text/markdown": [
       "1. 1. 101\n",
       "2. 201\n",
       "3. 110\n",
       "4. 230\n",
       "\n",
       "\n",
       "\n",
       "2. 1. 399\n",
       "2. 132\n",
       "3. 1342\n",
       "4. 148\n",
       "\n",
       "\n",
       "\n",
       "3. 1. 496\n",
       "2. 308\n",
       "3. 695\n",
       "4. 627\n",
       "\n",
       "\n",
       "\n",
       "4. 1. 0\n",
       "2. 0\n",
       "3. 4\n",
       "4. 0\n",
       "\n",
       "\n",
       "\n",
       "\n",
       "\n"
      ],
      "text/plain": [
       "[[1]]\n",
       "[1] 101 201 110 230\n",
       "\n",
       "[[2]]\n",
       "[1]  399  132 1342  148\n",
       "\n",
       "[[3]]\n",
       "[1] 496 308 695 627\n",
       "\n",
       "[[4]]\n",
       "[1] 0 0 4 0\n"
      ]
     },
     "metadata": {},
     "output_type": "display_data"
    }
   ],
   "source": [
    "mapply(FUN = function(x,y, absoluto = FALSE) {\n",
    "                if (absoluto) return(abs(x+y))\n",
    "                else return(x+y)\n",
    "             },\n",
    "       lista.vec1, lista.vec2, SIMPLIFY = FALSE, MoreArgs = list(absoluto = TRUE)\n",
    "      )"
   ]
  },
  {
   "cell_type": "markdown",
   "metadata": {},
   "source": [
    "**Ejercicio:** De la lista `mi.lista.1`, obtén del vector $1$ el elemento $5$, del $2$ el elemento $4$, del $3$ el elemento $3$, del $4$ el $2$ y del $5$ el $1$:"
   ]
  },
  {
   "cell_type": "code",
   "execution_count": 56,
   "metadata": {},
   "outputs": [
    {
     "data": {
      "text/html": [
       "<ol class=list-inline>\n",
       "\t<li>10</li>\n",
       "\t<li>4</li>\n",
       "\t<li>8</li>\n",
       "\t<li>8</li>\n",
       "\t<li>1</li>\n",
       "</ol>\n"
      ],
      "text/latex": [
       "\\begin{enumerate*}\n",
       "\\item 10\n",
       "\\item 4\n",
       "\\item 8\n",
       "\\item 8\n",
       "\\item 1\n",
       "\\end{enumerate*}\n"
      ],
      "text/markdown": [
       "1. 10\n",
       "2. 4\n",
       "3. 8\n",
       "4. 8\n",
       "5. 1\n",
       "\n",
       "\n"
      ],
      "text/plain": [
       "[1] 10  4  8  8  1"
      ]
     },
     "metadata": {},
     "output_type": "display_data"
    }
   ],
   "source": [
    "mi.lista.1 <- replicate(sample(1:10, size = 5, replace = T),n = 5, simplify = F)\n",
    "\n",
    "mapply(FUN = function(x, pos) x[pos],\n",
    "       mi.lista.1, c(5, 4, 3, 2, 1))"
   ]
  },
  {
   "cell_type": "markdown",
   "metadata": {},
   "source": [
    "**Ejercicio:** Las listas `mi.lista.1` y `mi.lista.2` contienen el mismo número de vectores. Obtén el máximo elemento de la combinación de los pares de matrices, i.e. si `mi.lista.1 = {v11, v12, ...}`, `mi.lista.2 = {v21, v22, ...}`, obtén `{max(max(v11,v21)), max(max(v12,v22)), ...}`"
   ]
  },
  {
   "cell_type": "code",
   "execution_count": 58,
   "metadata": {},
   "outputs": [
    {
     "data": {
      "text/html": [
       "<ol class=list-inline>\n",
       "\t<li>48</li>\n",
       "\t<li>84</li>\n",
       "\t<li>91</li>\n",
       "\t<li>97</li>\n",
       "\t<li>87</li>\n",
       "</ol>\n"
      ],
      "text/latex": [
       "\\begin{enumerate*}\n",
       "\\item 48\n",
       "\\item 84\n",
       "\\item 91\n",
       "\\item 97\n",
       "\\item 87\n",
       "\\end{enumerate*}\n"
      ],
      "text/markdown": [
       "1. 48\n",
       "2. 84\n",
       "3. 91\n",
       "4. 97\n",
       "5. 87\n",
       "\n",
       "\n"
      ],
      "text/plain": [
       "[1] 48 84 91 97 87"
      ]
     },
     "metadata": {},
     "output_type": "display_data"
    }
   ],
   "source": [
    "mi.lista.2 <- replicate(sample(1:100, size = 4, replace = T),n = 5, simplify = F)\n",
    "\n",
    "mapply(FUN = function(x, y) max(c(x, y)),\n",
    "       mi.lista.1, mi.lista.2)"
   ]
  },
  {
   "cell_type": "markdown",
   "metadata": {},
   "source": [
    "**Ejercicio:** Repite el ejercio anterior. Esta vez los vectores pueden tener `NA`s y queremos ignorarlos:"
   ]
  },
  {
   "cell_type": "code",
   "execution_count": 61,
   "metadata": {},
   "outputs": [
    {
     "data": {
      "text/html": [
       "<ol class=list-inline>\n",
       "\t<li>48</li>\n",
       "\t<li>84</li>\n",
       "\t<li>91</li>\n",
       "\t<li>97</li>\n",
       "\t<li>78</li>\n",
       "</ol>\n"
      ],
      "text/latex": [
       "\\begin{enumerate*}\n",
       "\\item 48\n",
       "\\item 84\n",
       "\\item 91\n",
       "\\item 97\n",
       "\\item 78\n",
       "\\end{enumerate*}\n"
      ],
      "text/markdown": [
       "1. 48\n",
       "2. 84\n",
       "3. 91\n",
       "4. 97\n",
       "5. 78\n",
       "\n",
       "\n"
      ],
      "text/plain": [
       "[1] 48 84 91 97 78"
      ]
     },
     "metadata": {},
     "output_type": "display_data"
    }
   ],
   "source": [
    "mi.lista.1[[1]][3] <- NA\n",
    "mi.lista.2[[5]][4] <- NA\n",
    "\n",
    "mapply(FUN = function(x, y) max(c(x, y), na.rm = T),\n",
    "       mi.lista.1, mi.lista.2)"
   ]
  },
  {
   "cell_type": "markdown",
   "metadata": {},
   "source": [
    "**Ejercicio:** Repite el ejercicio anterior sin utilizar ciclos ni `mapply()` (Pista: por ejemplo con dos `lapply()` un `cbind()` y un `apply()`"
   ]
  },
  {
   "cell_type": "code",
   "execution_count": 66,
   "metadata": {},
   "outputs": [
    {
     "data": {
      "text/html": [
       "<ol class=list-inline>\n",
       "\t<li>48</li>\n",
       "\t<li>84</li>\n",
       "\t<li>91</li>\n",
       "\t<li>97</li>\n",
       "\t<li>78</li>\n",
       "</ol>\n"
      ],
      "text/latex": [
       "\\begin{enumerate*}\n",
       "\\item 48\n",
       "\\item 84\n",
       "\\item 91\n",
       "\\item 97\n",
       "\\item 78\n",
       "\\end{enumerate*}\n"
      ],
      "text/markdown": [
       "1. 48\n",
       "2. 84\n",
       "3. 91\n",
       "4. 97\n",
       "5. 78\n",
       "\n",
       "\n"
      ],
      "text/plain": [
       "[1] 48 84 91 97 78"
      ]
     },
     "metadata": {},
     "output_type": "display_data"
    }
   ],
   "source": [
    "apply(X = matrix(unlist(cbind(lapply(mi.lista.1, max, na.rm = T),\n",
    "            lapply(mi.lista.2, max, na.rm = T))), nrow=5, ncol=2),\n",
    "    MARGIN = 1, FUN = function(x) max(x))"
   ]
  },
  {
   "cell_type": "markdown",
   "metadata": {},
   "source": [
    "**Ejercicio:** Verifica usando `mapply()`, del data.frame alumnos de más atrás, si en la primera clase hay alguien que se llame \"rodrigo\", en la segunda alguien que se llame \"maialen\" y en la tercera alguien que se llame \"mikel\":"
   ]
  },
  {
   "cell_type": "code",
   "execution_count": 68,
   "metadata": {},
   "outputs": [
    {
     "data": {
      "text/html": [
       "<dl class=dl-horizontal>\n",
       "\t<dt>fisica</dt>\n",
       "\t\t<dd>TRUE</dd>\n",
       "\t<dt>matematicas</dt>\n",
       "\t\t<dd>TRUE</dd>\n",
       "\t<dt>biologia</dt>\n",
       "\t\t<dd>FALSE</dd>\n",
       "</dl>\n"
      ],
      "text/latex": [
       "\\begin{description*}\n",
       "\\item[fisica] TRUE\n",
       "\\item[matematicas] TRUE\n",
       "\\item[biologia] FALSE\n",
       "\\end{description*}\n"
      ],
      "text/markdown": [
       "fisica\n",
       ":   TRUEmatematicas\n",
       ":   TRUEbiologia\n",
       ":   FALSE\n",
       "\n"
      ],
      "text/plain": [
       "     fisica matematicas    biologia \n",
       "       TRUE        TRUE       FALSE "
      ]
     },
     "metadata": {},
     "output_type": "display_data"
    }
   ],
   "source": [
    "mapply(FUN = function(x, val) return(is.element(val, x)), \n",
    "       alumnos, c('rodrigo', 'maialen', 'mikel'))"
   ]
  },
  {
   "cell_type": "markdown",
   "metadata": {},
   "source": [
    "**Ejercicio:** Se ha intentado aplicar la función `mi.suma` a las dos listas para sumar en valor absoluto los vectores. ¿Por qué falla la siguiente instrucción? Arregla la instrucción `mapply()` (sin tocar `mi.suma()`):"
   ]
  },
  {
   "cell_type": "code",
   "execution_count": 69,
   "metadata": {},
   "outputs": [
    {
     "name": "stdout",
     "output_type": "stream",
     "text": [
      "[1] \"Add...\"\n",
      "[1] \"Add...\"\n",
      "[1] \"Add...\"\n",
      "[1] \"Add...\"\n"
     ]
    },
    {
     "data": {
      "text/html": [
       "<ol>\n",
       "\t<li><ol class=list-inline>\n",
       "\t<li>101</li>\n",
       "\t<li>201</li>\n",
       "\t<li>110</li>\n",
       "\t<li>230</li>\n",
       "</ol>\n",
       "</li>\n",
       "\t<li><ol class=list-inline>\n",
       "\t<li>399</li>\n",
       "\t<li>132</li>\n",
       "\t<li>1342</li>\n",
       "\t<li>148</li>\n",
       "</ol>\n",
       "</li>\n",
       "\t<li><ol class=list-inline>\n",
       "\t<li>496</li>\n",
       "\t<li>308</li>\n",
       "\t<li>695</li>\n",
       "\t<li>627</li>\n",
       "</ol>\n",
       "</li>\n",
       "\t<li><ol class=list-inline>\n",
       "\t<li>0</li>\n",
       "\t<li>0</li>\n",
       "\t<li>4</li>\n",
       "\t<li>0</li>\n",
       "</ol>\n",
       "</li>\n",
       "</ol>\n"
      ],
      "text/latex": [
       "\\begin{enumerate}\n",
       "\\item \\begin{enumerate*}\n",
       "\\item 101\n",
       "\\item 201\n",
       "\\item 110\n",
       "\\item 230\n",
       "\\end{enumerate*}\n",
       "\n",
       "\\item \\begin{enumerate*}\n",
       "\\item 399\n",
       "\\item 132\n",
       "\\item 1342\n",
       "\\item 148\n",
       "\\end{enumerate*}\n",
       "\n",
       "\\item \\begin{enumerate*}\n",
       "\\item 496\n",
       "\\item 308\n",
       "\\item 695\n",
       "\\item 627\n",
       "\\end{enumerate*}\n",
       "\n",
       "\\item \\begin{enumerate*}\n",
       "\\item 0\n",
       "\\item 0\n",
       "\\item 4\n",
       "\\item 0\n",
       "\\end{enumerate*}\n",
       "\n",
       "\\end{enumerate}\n"
      ],
      "text/markdown": [
       "1. 1. 101\n",
       "2. 201\n",
       "3. 110\n",
       "4. 230\n",
       "\n",
       "\n",
       "\n",
       "2. 1. 399\n",
       "2. 132\n",
       "3. 1342\n",
       "4. 148\n",
       "\n",
       "\n",
       "\n",
       "3. 1. 496\n",
       "2. 308\n",
       "3. 695\n",
       "4. 627\n",
       "\n",
       "\n",
       "\n",
       "4. 1. 0\n",
       "2. 0\n",
       "3. 4\n",
       "4. 0\n",
       "\n",
       "\n",
       "\n",
       "\n",
       "\n"
      ],
      "text/plain": [
       "[[1]]\n",
       "[1] 101 201 110 230\n",
       "\n",
       "[[2]]\n",
       "[1]  399  132 1342  148\n",
       "\n",
       "[[3]]\n",
       "[1] 496 308 695 627\n",
       "\n",
       "[[4]]\n",
       "[1] 0 0 4 0\n"
      ]
     },
     "metadata": {},
     "output_type": "display_data"
    }
   ],
   "source": [
    "mi.suma <- \n",
    "    function(x, y, z = \"Sumando...\") {\n",
    "               print(z)\n",
    "               return(abs(x + y))\n",
    "             }\n",
    "\n",
    "mapply(mi.suma,\n",
    "       lista.vec1, lista.vec2, MoreArgs = list(z = 'Add...'), SIMPLIFY = F\n",
    "      )"
   ]
  },
  {
   "cell_type": "markdown",
   "metadata": {},
   "source": [
    "## Otras funciones: `rapply()`, `tapply()` y `vapply()`"
   ]
  },
  {
   "cell_type": "markdown",
   "metadata": {},
   "source": [
    "Existen más funciones en la familia Apply diseñadas para tareas más específicas. En esta sección cubriremos algunas de ellas someramente con un par de ejemplos. La primera, `rapply()`, está pensada para operar **recursivamente** sobre listas. Es especialmente útil cuando nos encontramos con listas mal formateadas que contienen sublistas mezcladas con, por ejemplo, números:"
   ]
  },
  {
   "cell_type": "markdown",
   "metadata": {},
   "source": [
    "**Ejemplo:** La siguiente lista contiene números y listas de números, en lugar de ser una lista de números. Supongamos que queremos asignar un `NA` a todos los elementos de la lista que sean negativos, observa lo que ocurre si se utiliza `lapply()`:"
   ]
  },
  {
   "cell_type": "code",
   "execution_count": 70,
   "metadata": {},
   "outputs": [
    {
     "name": "stderr",
     "output_type": "stream",
     "text": [
      "Warning message in if (x < 0) return(NA) else return(x):\n",
      "“the condition has length > 1 and only the first element will be used”Warning message in if (x < 0) return(NA) else return(x):\n",
      "“the condition has length > 1 and only the first element will be used”Warning message in if (x < 0) return(NA) else return(x):\n",
      "“the condition has length > 1 and only the first element will be used”"
     ]
    },
    {
     "data": {
      "text/html": [
       "<ol>\n",
       "\t<li>1</li>\n",
       "\t<li>2</li>\n",
       "\t<li>&lt;NA&gt;</li>\n",
       "\t<li><ol>\n",
       "\t<li>10</li>\n",
       "\t<li>12</li>\n",
       "\t<li>-1</li>\n",
       "</ol>\n",
       "</li>\n",
       "\t<li>4</li>\n",
       "\t<li>&lt;NA&gt;</li>\n",
       "\t<li><ol>\n",
       "\t<li>1</li>\n",
       "\t<li>1</li>\n",
       "</ol>\n",
       "</li>\n",
       "\t<li>&lt;NA&gt;</li>\n",
       "\t<li>3</li>\n",
       "\t<li>6</li>\n",
       "\t<li>1</li>\n",
       "\t<li>&lt;NA&gt;</li>\n",
       "</ol>\n"
      ],
      "text/latex": [
       "\\begin{enumerate}\n",
       "\\item 1\n",
       "\\item 2\n",
       "\\item <NA>\n",
       "\\item \\begin{enumerate}\n",
       "\\item 10\n",
       "\\item 12\n",
       "\\item -1\n",
       "\\end{enumerate}\n",
       "\n",
       "\\item 4\n",
       "\\item <NA>\n",
       "\\item \\begin{enumerate}\n",
       "\\item 1\n",
       "\\item 1\n",
       "\\end{enumerate}\n",
       "\n",
       "\\item <NA>\n",
       "\\item 3\n",
       "\\item 6\n",
       "\\item 1\n",
       "\\item <NA>\n",
       "\\end{enumerate}\n"
      ],
      "text/markdown": [
       "1. 1\n",
       "2. 2\n",
       "3. &lt;NA&gt;\n",
       "4. 1. 10\n",
       "2. 12\n",
       "3. -1\n",
       "\n",
       "\n",
       "\n",
       "5. 4\n",
       "6. &lt;NA&gt;\n",
       "7. 1. 1\n",
       "2. 1\n",
       "\n",
       "\n",
       "\n",
       "8. &lt;NA&gt;\n",
       "9. 3\n",
       "10. 6\n",
       "11. 1\n",
       "12. &lt;NA&gt;\n",
       "\n",
       "\n"
      ],
      "text/plain": [
       "[[1]]\n",
       "[1] 1\n",
       "\n",
       "[[2]]\n",
       "[1] 2\n",
       "\n",
       "[[3]]\n",
       "[1] NA\n",
       "\n",
       "[[4]]\n",
       "[[4]][[1]]\n",
       "[1] 10\n",
       "\n",
       "[[4]][[2]]\n",
       "[1] 12\n",
       "\n",
       "[[4]][[3]]\n",
       "[1] -1\n",
       "\n",
       "\n",
       "[[5]]\n",
       "[1] 4\n",
       "\n",
       "[[6]]\n",
       "[1] NA\n",
       "\n",
       "[[7]]\n",
       "[[7]][[1]]\n",
       "[1] 1\n",
       "\n",
       "[[7]][[2]]\n",
       "[1] 1\n",
       "\n",
       "\n",
       "[[8]]\n",
       "[1] NA\n",
       "\n",
       "[[9]]\n",
       "[1] 3\n",
       "\n",
       "[[10]]\n",
       "[1] 6\n",
       "\n",
       "[[11]]\n",
       "[1] 1\n",
       "\n",
       "[[12]]\n",
       "[1] NA\n"
      ]
     },
     "metadata": {},
     "output_type": "display_data"
    }
   ],
   "source": [
    "lista.e <- list(1,2,-1, list(10,12,-1), 4,-4, list(1,1), list(-1,-1,-2,5),3,6,1 ,-1)\n",
    "lapply(lista.e, function(x){\n",
    "                    if(x<0) return(NA)\n",
    "                    else return(x)\n",
    "    } )"
   ]
  },
  {
   "cell_type": "markdown",
   "metadata": {},
   "source": [
    "`rapply()` permite precisamente operar de manera recursiva sobre la lista sin preocuparnos del mal formato:"
   ]
  },
  {
   "cell_type": "code",
   "execution_count": 71,
   "metadata": {},
   "outputs": [
    {
     "data": {
      "text/html": [
       "<ol class=list-inline>\n",
       "\t<li>1</li>\n",
       "\t<li>2</li>\n",
       "\t<li>&lt;NA&gt;</li>\n",
       "\t<li>10</li>\n",
       "\t<li>12</li>\n",
       "\t<li>&lt;NA&gt;</li>\n",
       "\t<li>4</li>\n",
       "\t<li>&lt;NA&gt;</li>\n",
       "\t<li>1</li>\n",
       "\t<li>1</li>\n",
       "\t<li>&lt;NA&gt;</li>\n",
       "\t<li>&lt;NA&gt;</li>\n",
       "\t<li>&lt;NA&gt;</li>\n",
       "\t<li>5</li>\n",
       "\t<li>3</li>\n",
       "\t<li>6</li>\n",
       "\t<li>1</li>\n",
       "\t<li>&lt;NA&gt;</li>\n",
       "</ol>\n"
      ],
      "text/latex": [
       "\\begin{enumerate*}\n",
       "\\item 1\n",
       "\\item 2\n",
       "\\item <NA>\n",
       "\\item 10\n",
       "\\item 12\n",
       "\\item <NA>\n",
       "\\item 4\n",
       "\\item <NA>\n",
       "\\item 1\n",
       "\\item 1\n",
       "\\item <NA>\n",
       "\\item <NA>\n",
       "\\item <NA>\n",
       "\\item 5\n",
       "\\item 3\n",
       "\\item 6\n",
       "\\item 1\n",
       "\\item <NA>\n",
       "\\end{enumerate*}\n"
      ],
      "text/markdown": [
       "1. 1\n",
       "2. 2\n",
       "3. &lt;NA&gt;\n",
       "4. 10\n",
       "5. 12\n",
       "6. &lt;NA&gt;\n",
       "7. 4\n",
       "8. &lt;NA&gt;\n",
       "9. 1\n",
       "10. 1\n",
       "11. &lt;NA&gt;\n",
       "12. &lt;NA&gt;\n",
       "13. &lt;NA&gt;\n",
       "14. 5\n",
       "15. 3\n",
       "16. 6\n",
       "17. 1\n",
       "18. &lt;NA&gt;\n",
       "\n",
       "\n"
      ],
      "text/plain": [
       " [1]  1  2 NA 10 12 NA  4 NA  1  1 NA NA NA  5  3  6  1 NA"
      ]
     },
     "metadata": {},
     "output_type": "display_data"
    }
   ],
   "source": [
    "rapply(lista.e, function(x){\n",
    "                    if(x<0) return(NA)\n",
    "                    else return(x)\n",
    "                })"
   ]
  },
  {
   "cell_type": "markdown",
   "metadata": {},
   "source": [
    "No sólo eso, también permite especificar el tipo de argumento sobre el que se quiere operar utilizando el comando `classes`. Por ejemplo, podemos encontrarnos con un vector que contenga números con algún caracter, etc... Y querer solamente aplicar una función a los números:"
   ]
  },
  {
   "cell_type": "code",
   "execution_count": 73,
   "metadata": {},
   "outputs": [
    {
     "data": {
      "text/html": [
       "<ol class=list-inline>\n",
       "\t<li>4</li>\n",
       "\t<li>1</li>\n",
       "\t<li>4</li>\n",
       "\t<li>144</li>\n",
       "\t<li>1</li>\n",
       "\t<li>9</li>\n",
       "\t<li>25</li>\n",
       "\t<li>4</li>\n",
       "</ol>\n"
      ],
      "text/latex": [
       "\\begin{enumerate*}\n",
       "\\item 4\n",
       "\\item 1\n",
       "\\item 4\n",
       "\\item 144\n",
       "\\item 1\n",
       "\\item 9\n",
       "\\item 25\n",
       "\\item 4\n",
       "\\end{enumerate*}\n"
      ],
      "text/markdown": [
       "1. 4\n",
       "2. 1\n",
       "3. 4\n",
       "4. 144\n",
       "5. 1\n",
       "6. 9\n",
       "7. 25\n",
       "8. 4\n",
       "\n",
       "\n"
      ],
      "text/plain": [
       "[1]   4   1   4 144   1   9  25   4"
      ]
     },
     "metadata": {},
     "output_type": "display_data"
    }
   ],
   "source": [
    "lista.e2 <- list(2, 1, 2, NA, 12, \"err\", list(\"err\", 1, 3), 5, NA, list(), NULL, 2)\n",
    "rapply(lista.e2, f = function(x) x^2, classes = \"numeric\")"
   ]
  },
  {
   "cell_type": "markdown",
   "metadata": {},
   "source": [
    "**Ejercicio:** Eleva al cuadrado los números de la lista `lista.e2` y devuelve la misma estructura que arriba, sin usar `rapply()`. Usa `lapply()` o `sapply()`:"
   ]
  },
  {
   "cell_type": "code",
   "execution_count": 78,
   "metadata": {},
   "outputs": [
    {
     "data": {
      "text/html": [
       "<ol>\n",
       "\t<li>4</li>\n",
       "\t<li>1</li>\n",
       "\t<li>4</li>\n",
       "\t<li>&lt;NA&gt;</li>\n",
       "\t<li>144</li>\n",
       "\t<li>&lt;NA&gt;</li>\n",
       "\t<li><ol>\n",
       "\t<li>NULL</li>\n",
       "\t<li>1</li>\n",
       "\t<li>9</li>\n",
       "</ol>\n",
       "</li>\n",
       "\t<li>25</li>\n",
       "\t<li>&lt;NA&gt;</li>\n",
       "\t<li><ol>\n",
       "</ol>\n",
       "</li>\n",
       "\t<li>&lt;NA&gt;</li>\n",
       "\t<li>4</li>\n",
       "</ol>\n"
      ],
      "text/latex": [
       "\\begin{enumerate}\n",
       "\\item 4\n",
       "\\item 1\n",
       "\\item 4\n",
       "\\item <NA>\n",
       "\\item 144\n",
       "\\item <NA>\n",
       "\\item \\begin{enumerate}\n",
       "\\item NULL\n",
       "\\item 1\n",
       "\\item 9\n",
       "\\end{enumerate}\n",
       "\n",
       "\\item 25\n",
       "\\item <NA>\n",
       "\\item \\begin{enumerate}\n",
       "\\end{enumerate}\n",
       "\n",
       "\\item <NA>\n",
       "\\item 4\n",
       "\\end{enumerate}\n"
      ],
      "text/markdown": [
       "1. 4\n",
       "2. 1\n",
       "3. 4\n",
       "4. &lt;NA&gt;\n",
       "5. 144\n",
       "6. &lt;NA&gt;\n",
       "7. 1. NULL\n",
       "2. 1\n",
       "3. 9\n",
       "\n",
       "\n",
       "\n",
       "8. 25\n",
       "9. &lt;NA&gt;\n",
       "10. \n",
       "\n",
       "\n",
       "11. &lt;NA&gt;\n",
       "12. 4\n",
       "\n",
       "\n"
      ],
      "text/plain": [
       "[[1]]\n",
       "[1] 4\n",
       "\n",
       "[[2]]\n",
       "[1] 1\n",
       "\n",
       "[[3]]\n",
       "[1] 4\n",
       "\n",
       "[[4]]\n",
       "[1] NA\n",
       "\n",
       "[[5]]\n",
       "[1] 144\n",
       "\n",
       "[[6]]\n",
       "[1] NA\n",
       "\n",
       "[[7]]\n",
       "[[7]][[1]]\n",
       "NULL\n",
       "\n",
       "[[7]][[2]]\n",
       "[1] 1\n",
       "\n",
       "[[7]][[3]]\n",
       "[1] 9\n",
       "\n",
       "\n",
       "[[8]]\n",
       "[1] 25\n",
       "\n",
       "[[9]]\n",
       "[1] NA\n",
       "\n",
       "[[10]]\n",
       "list()\n",
       "\n",
       "[[11]]\n",
       "[1] NA\n",
       "\n",
       "[[12]]\n",
       "[1] 4\n"
      ]
     },
     "metadata": {},
     "output_type": "display_data"
    }
   ],
   "source": [
    "sapply(lista.e2, FUN = function(x) {\n",
    "    if (is.numeric(x)) return(x^2)\n",
    "    if (is.list(x)) return(sapply(x, FUN = function(y) {\n",
    "                            if (is.numeric(y)) return(y^2)}))\n",
    "    if(!is.numeric(x)) return(NA)\n",
    "    })"
   ]
  },
  {
   "cell_type": "markdown",
   "metadata": {},
   "source": [
    "**Ejercicio:** Vuelve a hacerlo, esta vez sin usar `rapply()`, `lapply()` ni `sapply()`, i.e. usa un ciclo:"
   ]
  },
  {
   "cell_type": "code",
   "execution_count": 102,
   "metadata": {},
   "outputs": [
    {
     "data": {
      "text/html": [
       "<ol class=list-inline>\n",
       "\t<li>4</li>\n",
       "\t<li>1</li>\n",
       "\t<li>4</li>\n",
       "\t<li>144</li>\n",
       "\t<li>1</li>\n",
       "\t<li>9</li>\n",
       "\t<li>25</li>\n",
       "\t<li>4</li>\n",
       "</ol>\n"
      ],
      "text/latex": [
       "\\begin{enumerate*}\n",
       "\\item 4\n",
       "\\item 1\n",
       "\\item 4\n",
       "\\item 144\n",
       "\\item 1\n",
       "\\item 9\n",
       "\\item 25\n",
       "\\item 4\n",
       "\\end{enumerate*}\n"
      ],
      "text/markdown": [
       "1. 4\n",
       "2. 1\n",
       "3. 4\n",
       "4. 144\n",
       "5. 1\n",
       "6. 9\n",
       "7. 25\n",
       "8. 4\n",
       "\n",
       "\n"
      ],
      "text/plain": [
       "[1]   4   1   4 144   1   9  25   4"
      ]
     },
     "metadata": {},
     "output_type": "display_data"
    }
   ],
   "source": [
    "result <- c()\n",
    "for (i in 1:length(lista.e2)) {\n",
    "    val <- lista.e2[[i]]\n",
    "    if (is.numeric(val))\n",
    "        result <- c(result, val^2)\n",
    "    else if (is.list(val) && length(val) >= 1) {\n",
    "        for (j in 1:length(val)) {\n",
    "            val_in <- lista.e2[[i]][[j]]\n",
    "            if (is.numeric(val_in))\n",
    "                result <- c(result, val_in^2)\n",
    "        }\n",
    "    }\n",
    "}\n",
    "result"
   ]
  },
  {
   "cell_type": "markdown",
   "metadata": {},
   "source": [
    "---"
   ]
  },
  {
   "cell_type": "markdown",
   "metadata": {},
   "source": [
    "Otra función útil es `tapply()`, indicada cuando hay que aplicar una función a una variable, dividiendo ésta en grupos según dicta otra variable. La variable sobre la que iterar es, como viene siendo habitual, `X`, y el argumento por el que queremos agrupar es `INDEX`.\n",
    "\n",
    "Veámoslo con un **ejemplo** del dataset `iris`. El objetivo es obtener la media de la variable `iris$Sepal.Length` pero agrupando por las diferentes especies (`iris$Species`), i.e. obtener la media de la variable $Sepal.Length$ para cada especie:"
   ]
  },
  {
   "cell_type": "code",
   "execution_count": 108,
   "metadata": {},
   "outputs": [
    {
     "data": {
      "text/html": [
       "<table>\n",
       "<thead><tr><th scope=col>setosa</th><th scope=col>versicolor</th><th scope=col>virginica</th></tr></thead>\n",
       "<tbody>\n",
       "\t<tr><td>5.006</td><td>5.936</td><td>6.588</td></tr>\n",
       "</tbody>\n",
       "</table>\n"
      ],
      "text/latex": [
       "\\begin{tabular}{lll}\n",
       " setosa & versicolor & virginica\\\\\n",
       "\\hline\n",
       "\t 5.006 & 5.936 & 6.588\\\\\n",
       "\\end{tabular}\n"
      ],
      "text/markdown": [
       "\n",
       "setosa | versicolor | virginica | \n",
       "|---|\n",
       "| 5.006 | 5.936 | 6.588 | \n",
       "\n",
       "\n"
      ],
      "text/plain": [
       "     setosa versicolor virginica\n",
       "[1,] 5.006  5.936      6.588    "
      ]
     },
     "metadata": {},
     "output_type": "display_data"
    }
   ],
   "source": [
    "media.Sepal.Length.por.Species <-\n",
    "    tapply(X = iris$Sepal.Length, INDEX = iris$Species, FUN = mean) # ignora el error, es un error de jupyter, no de R. El resultado es correcto\n",
    "t(media.Sepal.Length.por.Species)"
   ]
  },
  {
   "cell_type": "markdown",
   "metadata": {},
   "source": [
    "---\n",
    "\n",
    "La última función que veremos es `vapply()`. Esta función es similar a `sapply()`, con la diferencia de que es posible controlar la clase del output, razón por la cual esta función es considerada más robusta que `sapply()`, ya que evita resultados inesperados a la hora de trabajar con estructuras complejas. No sólo eso, también puede ser ligeramente más eficiente, puesto que no tiene que decidir la estructura de salida sinó que viene dada. Veámoslo con un par de **ejemplos:**\n",
    "\n",
    "Queremos, de `lista1`, devolver `TRUE` si la sublista contiene alguna `e`, y `FALSE` si no. Programamos nuestra función `busca.e`:"
   ]
  },
  {
   "cell_type": "code",
   "execution_count": 114,
   "metadata": {},
   "outputs": [
    {
     "ename": "ERROR",
     "evalue": "Error in parse(text = x, srcfile = src): <text>:1:3: unexpected 'in'\n1: 1 in\n      ^\n",
     "output_type": "error",
     "traceback": [
      "Error in parse(text = x, srcfile = src): <text>:1:3: unexpected 'in'\n1: 1 in\n      ^\nTraceback:\n"
     ]
    }
   ],
   "source": [
    "1 in c(1, 3)"
   ]
  },
  {
   "cell_type": "code",
   "execution_count": 121,
   "metadata": {},
   "outputs": [],
   "source": [
    "lista1 <- list( c(\"a\",\"e\",\"i\",\"o\",\"u\"), c(\"m\",\"n\",\"l\",\"r\"), c(\"f\",\"e\",\"r\",\"m\",\"e\"))\n",
    "busca.e <- function(x) x==\"e\""
   ]
  },
  {
   "cell_type": "markdown",
   "metadata": {},
   "source": [
    "Buscamos un vector de tres elementos que contenga `TRUE` si la lista contenía alguna `\"e\"` y `FALSE` si no."
   ]
  },
  {
   "cell_type": "code",
   "execution_count": 122,
   "metadata": {},
   "outputs": [
    {
     "data": {
      "text/html": [
       "<ol>\n",
       "\t<li><ol class=list-inline>\n",
       "\t<li>FALSE</li>\n",
       "\t<li>TRUE</li>\n",
       "\t<li>FALSE</li>\n",
       "\t<li>FALSE</li>\n",
       "\t<li>FALSE</li>\n",
       "</ol>\n",
       "</li>\n",
       "\t<li><ol class=list-inline>\n",
       "\t<li>FALSE</li>\n",
       "\t<li>FALSE</li>\n",
       "\t<li>FALSE</li>\n",
       "\t<li>FALSE</li>\n",
       "</ol>\n",
       "</li>\n",
       "\t<li><ol class=list-inline>\n",
       "\t<li>FALSE</li>\n",
       "\t<li>TRUE</li>\n",
       "\t<li>FALSE</li>\n",
       "\t<li>FALSE</li>\n",
       "\t<li>TRUE</li>\n",
       "</ol>\n",
       "</li>\n",
       "</ol>\n"
      ],
      "text/latex": [
       "\\begin{enumerate}\n",
       "\\item \\begin{enumerate*}\n",
       "\\item FALSE\n",
       "\\item TRUE\n",
       "\\item FALSE\n",
       "\\item FALSE\n",
       "\\item FALSE\n",
       "\\end{enumerate*}\n",
       "\n",
       "\\item \\begin{enumerate*}\n",
       "\\item FALSE\n",
       "\\item FALSE\n",
       "\\item FALSE\n",
       "\\item FALSE\n",
       "\\end{enumerate*}\n",
       "\n",
       "\\item \\begin{enumerate*}\n",
       "\\item FALSE\n",
       "\\item TRUE\n",
       "\\item FALSE\n",
       "\\item FALSE\n",
       "\\item TRUE\n",
       "\\end{enumerate*}\n",
       "\n",
       "\\end{enumerate}\n"
      ],
      "text/markdown": [
       "1. 1. FALSE\n",
       "2. TRUE\n",
       "3. FALSE\n",
       "4. FALSE\n",
       "5. FALSE\n",
       "\n",
       "\n",
       "\n",
       "2. 1. FALSE\n",
       "2. FALSE\n",
       "3. FALSE\n",
       "4. FALSE\n",
       "\n",
       "\n",
       "\n",
       "3. 1. FALSE\n",
       "2. TRUE\n",
       "3. FALSE\n",
       "4. FALSE\n",
       "5. TRUE\n",
       "\n",
       "\n",
       "\n",
       "\n",
       "\n"
      ],
      "text/plain": [
       "[[1]]\n",
       "[1] FALSE  TRUE FALSE FALSE FALSE\n",
       "\n",
       "[[2]]\n",
       "[1] FALSE FALSE FALSE FALSE\n",
       "\n",
       "[[3]]\n",
       "[1] FALSE  TRUE FALSE FALSE  TRUE\n"
      ]
     },
     "metadata": {},
     "output_type": "display_data"
    }
   ],
   "source": [
    "sapply(lista1, busca.e )"
   ]
  },
  {
   "cell_type": "markdown",
   "metadata": {},
   "source": [
    "Sin embargo, como `busca.e` no la hemos hecho del todo bien, obtenemos una lista que no es lo que esperamos. Es más robusto controlar la estructura especificándole que nos devuelva específicamente un objeto de tipo `logical` de longitud 1, lo que puede hacerse con `vapply()`:"
   ]
  },
  {
   "cell_type": "code",
   "execution_count": 123,
   "metadata": {},
   "outputs": [
    {
     "data": {
      "text/html": [
       "<ol class=list-inline>\n",
       "\t<li>TRUE</li>\n",
       "\t<li>FALSE</li>\n",
       "\t<li>TRUE</li>\n",
       "</ol>\n"
      ],
      "text/latex": [
       "\\begin{enumerate*}\n",
       "\\item TRUE\n",
       "\\item FALSE\n",
       "\\item TRUE\n",
       "\\end{enumerate*}\n"
      ],
      "text/markdown": [
       "1. TRUE\n",
       "2. FALSE\n",
       "3. TRUE\n",
       "\n",
       "\n"
      ],
      "text/plain": [
       "[1]  TRUE FALSE  TRUE"
      ]
     },
     "metadata": {},
     "output_type": "display_data"
    }
   ],
   "source": [
    "busca.e <- function(x) return(is.element(\"e\", x))\n",
    "vapply(lista1, busca.e, logical(1))"
   ]
  },
  {
   "cell_type": "code",
   "execution_count": 124,
   "metadata": {},
   "outputs": [
    {
     "ename": "ERROR",
     "evalue": "Error in vapply(lista1, busca.e, logical(1)): values must be type 'logical',\n but FUN(X[[1]]) result is type 'character'\n",
     "output_type": "error",
     "traceback": [
      "Error in vapply(lista1, busca.e, logical(1)): values must be type 'logical',\n but FUN(X[[1]]) result is type 'character'\nTraceback:\n",
      "1. vapply(lista1, busca.e, logical(1))"
     ]
    }
   ],
   "source": [
    "busca.e <- function(x) if (is.element(\"e\", x)) return('ok')\n",
    "vapply(lista1, busca.e, logical(1))"
   ]
  },
  {
   "cell_type": "markdown",
   "metadata": {},
   "source": [
    "`vapply()` comprueba el output y nos avisa de que estamos intentando devolver resultados de longitud $5$ en lugar de resultados de longitud $1$ (*`values must be length 1`*). Podemos verlo con otro ejemplo. Queremos multiplicar a los elementos de `mi.lista3` por $100$. \n",
    "\n",
    "Esperamos que la entrada sea una lista de números, pero alguien ha programado mal la función de la que vienen los datos y no lo es, ya que contiene también vectores:"
   ]
  },
  {
   "cell_type": "code",
   "execution_count": 125,
   "metadata": {},
   "outputs": [
    {
     "ename": "ERROR",
     "evalue": "Error in vapply(mi.lista3, FUN = function(x) x * 100, FUN.VALUE = 1): values must be length 1,\n but FUN(X[[5]]) result is length 3\n",
     "output_type": "error",
     "traceback": [
      "Error in vapply(mi.lista3, FUN = function(x) x * 100, FUN.VALUE = 1): values must be length 1,\n but FUN(X[[5]]) result is length 3\nTraceback:\n",
      "1. vapply(mi.lista3, FUN = function(x) x * 100, FUN.VALUE = 1)"
     ]
    }
   ],
   "source": [
    "mi.lista3 <- list(1,3.14,1.51,2.111,c(-1,-404,-1),14)\n",
    "vapply(mi.lista3, FUN = function(x) x*100, FUN.VALUE = 1)"
   ]
  },
  {
   "cell_type": "markdown",
   "metadata": {},
   "source": [
    "`vapply()` nos avisa de nuevo de que hay un error en los datos. Obsérvese como si lo aplicamos a la siguiente lista, que si tiene el formato esperado, el resultado es correcto:"
   ]
  },
  {
   "cell_type": "code",
   "execution_count": 126,
   "metadata": {},
   "outputs": [
    {
     "data": {
      "text/html": [
       "<ol class=list-inline>\n",
       "\t<li>100</li>\n",
       "\t<li>314</li>\n",
       "\t<li>151</li>\n",
       "\t<li>211.1</li>\n",
       "\t<li>100</li>\n",
       "\t<li>40400</li>\n",
       "\t<li>100</li>\n",
       "\t<li>1400</li>\n",
       "</ol>\n"
      ],
      "text/latex": [
       "\\begin{enumerate*}\n",
       "\\item 100\n",
       "\\item 314\n",
       "\\item 151\n",
       "\\item 211.1\n",
       "\\item 100\n",
       "\\item 40400\n",
       "\\item 100\n",
       "\\item 1400\n",
       "\\end{enumerate*}\n"
      ],
      "text/markdown": [
       "1. 100\n",
       "2. 314\n",
       "3. 151\n",
       "4. 211.1\n",
       "5. 100\n",
       "6. 40400\n",
       "7. 100\n",
       "8. 1400\n",
       "\n",
       "\n"
      ],
      "text/plain": [
       "[1]   100.0   314.0   151.0   211.1   100.0 40400.0   100.0  1400.0"
      ]
     },
     "metadata": {},
     "output_type": "display_data"
    }
   ],
   "source": [
    "mi.lista4 <- list(1,3.14,1.51,2.111,1,404,1,14)\n",
    "vapply(mi.lista4, FUN = function(x) x*100, FUN.VALUE = 1)"
   ]
  },
  {
   "cell_type": "markdown",
   "metadata": {},
   "source": [
    "### Nota Final\n",
    "\n",
    "Utilizar las funciones de la familia Apply permite escribir código de `R` de manera concisa y eficiente. Se debe tener en cuenta que utilizarlas no es *per se* más rápido que utilizar un ciclo `for`. En ese sentido, `apply()` y sus variantes simplemente encapsulan el ciclo. (Existen casos en los que sí son más eficientes, por ejemplo, cuando hay que entrelazar varios cilos for). La razón por la que son habitualmente y en la práctica más rápidas que un ciclo `for` en `R` es porque éstas reservan espacio en memoria de antemano de manera implícita. Si se hace esto manualmente y se programa correctamente el ciclo `for`, puede comprobarse que los tiempos de ejecución son similares.\n",
    "\n",
    "Nótese por último que si existe una función vectorizada para la operación que estuvieras intendando hacer, sea con `apply()` o un ciclo, deberías usar dicha función. Por ejemplo, calcular la media por columnas de una matriz puede hacerse con un ciclo y mediante el comando `apply(foo, 2, mean)`, pero es más eficiente si se utiliza la función de `colMeans(foo)`.\n",
    "\n",
    "Por último, las funciones de la familia Apply abren la puerta a **paralelizar el proceso** de manera inmediata.\n",
    "\n"
   ]
  },
  {
   "cell_type": "markdown",
   "metadata": {},
   "source": [
    "# Paralelizando con la librería *parallel*"
   ]
  },
  {
   "cell_type": "markdown",
   "metadata": {},
   "source": [
    "Cualquier ciclo que programemos se ejecuta de manera secuencial, lo que implica que se está usando un solo procesador. Paralelizar implica subdividir la tarea en subtareas para que sean procesadas por los diferentes núcleos (o procesadores, si nuestra máquina tiene más de uno)."
   ]
  },
  {
   "cell_type": "markdown",
   "metadata": {},
   "source": [
    "Las funciones y metodología que hemos visto hasta ahora permiten paralelizar procesos de manera muy sencilla. Precisamente porque se está repitiendo una tarea múltiples veces de manera independiente, todas ellas son de naturaleza paralelizable. Para hacerlo, basta tener en cuenta que, a excepción de `mapply()`, las funciones que hemos visto tienen su equivalente en la librería parallel: `parApply()` `parLapply()`, `parSapply()`.  \n",
    "\n",
    "Funcionan exactamente igual, pero requieren como primer argumento un objeto de tipo *cluster* de `parallel`, que podemos iniciar con la función `makeCluster()`.\n",
    "\n",
    "En Mac/Linux la sintaxis básica para iniciar este objeto es `makeCluster(numero_nodos, type=\"FORK\")`, que inicia un *cluster* de tipo *FORK* con `numero_nodos` nodos (la cantidad de *workers* para el proceso a paralelizar).\n",
    "\n",
    "Este tipo de *cluster* no está disponible en Windows, con lo que se debe usar un cluster de tipo *PSOCK* (Parallel Socket Cluster), con `type = PSOCK`. La diferencia principal reside en que con *FORK* todas las variables y funciones quedan automáticamente exportadas al *cluster*, con lo que no tenemos que preocuparnos de hacerlo manualmente.\n",
    "\n",
    "Vamos a ilustrar esto con un **ejemplo**. Además de la librería `parallel`, también vamos a cargar la librería `microbenchmark`, para hacer pruebas de rendimiento:"
   ]
  },
  {
   "cell_type": "code",
   "execution_count": 127,
   "metadata": {},
   "outputs": [
    {
     "ename": "ERROR",
     "evalue": "Error in library(microbenchmark): there is no package called ‘microbenchmark’\n",
     "output_type": "error",
     "traceback": [
      "Error in library(microbenchmark): there is no package called ‘microbenchmark’\nTraceback:\n",
      "1. library(microbenchmark)",
      "2. stop(txt, domain = NA)"
     ]
    }
   ],
   "source": [
    "library(parallel) \n",
    "library(microbenchmark)"
   ]
  },
  {
   "cell_type": "markdown",
   "metadata": {},
   "source": [
    "La función `detectCores()` permite ver la cantidad de hilos disponibles en el sistema:"
   ]
  },
  {
   "cell_type": "code",
   "execution_count": 128,
   "metadata": {},
   "outputs": [
    {
     "data": {
      "text/html": [
       "20"
      ],
      "text/latex": [
       "20"
      ],
      "text/markdown": [
       "20"
      ],
      "text/plain": [
       "[1] 20"
      ]
     },
     "metadata": {},
     "output_type": "display_data"
    }
   ],
   "source": [
    "detectCores()"
   ]
  },
  {
   "cell_type": "markdown",
   "metadata": {},
   "source": [
    "Lo ideal es siempre dejar libre al menos uno para el sistema, de modo que la práctica más habitual es utilizar como número de nodos `detectCores()-1`, "
   ]
  },
  {
   "cell_type": "code",
   "execution_count": 129,
   "metadata": {},
   "outputs": [
    {
     "data": {
      "text/plain": [
       "socket cluster with 19 nodes on host ‘localhost’"
      ]
     },
     "metadata": {},
     "output_type": "display_data"
    }
   ],
   "source": [
    "cl <- makeCluster(spec = detectCores()-1, type = \"FORK\") # iniciamos el cluster\n",
    "cl"
   ]
  },
  {
   "cell_type": "markdown",
   "metadata": {},
   "source": [
    "Vamos a coger uno de los ejemplos iniciales y utilizar la paralelización (Creamos una lista de matrices algo más grandes):"
   ]
  },
  {
   "cell_type": "code",
   "execution_count": 130,
   "metadata": {},
   "outputs": [],
   "source": [
    "A.list <- replicate(replicate(expr = sample(1:50, size = 50, replace = T),n = 50), n = 100, simplify = F) # matriz 500x500"
   ]
  },
  {
   "cell_type": "code",
   "execution_count": 131,
   "metadata": {},
   "outputs": [],
   "source": [
    "cmean <- parLapply(cl = cl, X = A.list,  mean) # media de cada matriz\n",
    "# equivale a \n",
    "# cmean <- lapply(X = A.list,  mean) # media de cada matriz"
   ]
  },
  {
   "cell_type": "markdown",
   "metadata": {},
   "source": [
    "Conviene tener en cuenta que no todo es ideal paralelizarlo. De hecho, la operación que acabamos de hacer no tiene sentido a nivel de rendimiento. Comprobemos el rendimiento de `parApply()` contra `apply()`:"
   ]
  },
  {
   "cell_type": "code",
   "execution_count": 31,
   "metadata": {},
   "outputs": [],
   "source": [
    "mbp <- microbenchmark(parLapply(cl = cl, X = A.list,  mean), times = 10)\n",
    "mb <- microbenchmark(lapply(X = A.list,  mean), times = 10)"
   ]
  },
  {
   "cell_type": "code",
   "execution_count": 32,
   "metadata": {},
   "outputs": [
    {
     "data": {
      "text/html": [
       "0.0571961802"
      ],
      "text/latex": [
       "0.0571961802"
      ],
      "text/markdown": [
       "0.0571961802"
      ],
      "text/plain": [
       "[1] 0.05719618"
      ]
     },
     "metadata": {},
     "output_type": "display_data"
    }
   ],
   "source": [
    "mean(mbp$time)/10^9 # segundos"
   ]
  },
  {
   "cell_type": "code",
   "execution_count": 33,
   "metadata": {},
   "outputs": [
    {
     "data": {
      "text/html": [
       "0.0012937959"
      ],
      "text/latex": [
       "0.0012937959"
      ],
      "text/markdown": [
       "0.0012937959"
      ],
      "text/plain": [
       "[1] 0.001293796"
      ]
     },
     "metadata": {},
     "output_type": "display_data"
    }
   ],
   "source": [
    "mean(mb$time)/10^9 # segundos"
   ]
  },
  {
   "cell_type": "markdown",
   "metadata": {},
   "source": [
    "Siempre que acabemos de paralelizar hay que deterner el cluster que creamos, utilizando `stopCluster()`:"
   ]
  },
  {
   "cell_type": "code",
   "execution_count": 132,
   "metadata": {},
   "outputs": [],
   "source": [
    "stopCluster(cl)"
   ]
  },
  {
   "cell_type": "markdown",
   "metadata": {},
   "source": [
    " Nota: La función `parMapply()` no existe, por lo que si se quiere paralelizar un `mapply()` se debe acudir a `mcmapply()`. También existe `mclapply()`, que funciona análogamente a `lapply()`. En éstas no hay que iniciar el *cluster* de antemano, pero no están disponibles en Windows.\n",
    " \n",
    " Usando `mclapply()` paralelizar es tan sencillo como:"
   ]
  },
  {
   "cell_type": "code",
   "execution_count": 133,
   "metadata": {},
   "outputs": [
    {
     "data": {
      "text/html": [
       "<ol>\n",
       "\t<li>25.0312</li>\n",
       "\t<li>25.944</li>\n",
       "\t<li>25.5224</li>\n",
       "\t<li>25.622</li>\n",
       "\t<li>25.3436</li>\n",
       "\t<li>25.6416</li>\n",
       "\t<li>25.0244</li>\n",
       "\t<li>25.8908</li>\n",
       "\t<li>25.152</li>\n",
       "\t<li>25.1832</li>\n",
       "\t<li>25.5844</li>\n",
       "\t<li>25.1996</li>\n",
       "\t<li>25.7324</li>\n",
       "\t<li>25.9124</li>\n",
       "\t<li>25.35</li>\n",
       "\t<li>25.5828</li>\n",
       "\t<li>25.9316</li>\n",
       "\t<li>25.07</li>\n",
       "\t<li>25.9044</li>\n",
       "\t<li>25.7932</li>\n",
       "\t<li>24.9112</li>\n",
       "\t<li>25.7952</li>\n",
       "\t<li>25.9232</li>\n",
       "\t<li>25.4248</li>\n",
       "\t<li>25.8092</li>\n",
       "\t<li>25.5748</li>\n",
       "\t<li>25.3124</li>\n",
       "\t<li>25.4596</li>\n",
       "\t<li>25.9028</li>\n",
       "\t<li>25.0372</li>\n",
       "\t<li>25.5088</li>\n",
       "\t<li>25.1492</li>\n",
       "\t<li>24.8796</li>\n",
       "\t<li>25.5432</li>\n",
       "\t<li>25.4932</li>\n",
       "\t<li>25.568</li>\n",
       "\t<li>25.0192</li>\n",
       "\t<li>25.842</li>\n",
       "\t<li>25.552</li>\n",
       "\t<li>24.8688</li>\n",
       "\t<li>25.124</li>\n",
       "\t<li>25.8008</li>\n",
       "\t<li>25.2272</li>\n",
       "\t<li>25.1452</li>\n",
       "\t<li>25.842</li>\n",
       "\t<li>25.01</li>\n",
       "\t<li>25.5808</li>\n",
       "\t<li>25.5988</li>\n",
       "\t<li>25.6576</li>\n",
       "\t<li>25.4872</li>\n",
       "\t<li>25.5928</li>\n",
       "\t<li>25.3264</li>\n",
       "\t<li>25.1844</li>\n",
       "\t<li>25.8176</li>\n",
       "\t<li>25.0792</li>\n",
       "\t<li>25.564</li>\n",
       "\t<li>25.5784</li>\n",
       "\t<li>25.6572</li>\n",
       "\t<li>25.4088</li>\n",
       "\t<li>25.718</li>\n",
       "\t<li>25.4664</li>\n",
       "\t<li>25.4608</li>\n",
       "\t<li>25.4524</li>\n",
       "\t<li>25.4516</li>\n",
       "\t<li>24.9268</li>\n",
       "\t<li>25.504</li>\n",
       "\t<li>24.992</li>\n",
       "\t<li>25.5988</li>\n",
       "\t<li>25.2804</li>\n",
       "\t<li>25.7212</li>\n",
       "\t<li>25.4316</li>\n",
       "\t<li>25.964</li>\n",
       "\t<li>25.7888</li>\n",
       "\t<li>25.72</li>\n",
       "\t<li>25.9016</li>\n",
       "\t<li>26.0328</li>\n",
       "\t<li>25.8464</li>\n",
       "\t<li>25.4896</li>\n",
       "\t<li>25.3048</li>\n",
       "\t<li>25.8012</li>\n",
       "\t<li>25.4636</li>\n",
       "\t<li>25.2628</li>\n",
       "\t<li>25.186</li>\n",
       "\t<li>25.4148</li>\n",
       "\t<li>25.7456</li>\n",
       "\t<li>25.8836</li>\n",
       "\t<li>26.2712</li>\n",
       "\t<li>25.5764</li>\n",
       "\t<li>25.7564</li>\n",
       "\t<li>25.814</li>\n",
       "\t<li>25.888</li>\n",
       "\t<li>25.2436</li>\n",
       "\t<li>25.5868</li>\n",
       "\t<li>25.532</li>\n",
       "\t<li>25.018</li>\n",
       "\t<li>25.4924</li>\n",
       "\t<li>25.4892</li>\n",
       "\t<li>24.8556</li>\n",
       "\t<li>25.6464</li>\n",
       "\t<li>25.6508</li>\n",
       "</ol>\n"
      ],
      "text/latex": [
       "\\begin{enumerate}\n",
       "\\item 25.0312\n",
       "\\item 25.944\n",
       "\\item 25.5224\n",
       "\\item 25.622\n",
       "\\item 25.3436\n",
       "\\item 25.6416\n",
       "\\item 25.0244\n",
       "\\item 25.8908\n",
       "\\item 25.152\n",
       "\\item 25.1832\n",
       "\\item 25.5844\n",
       "\\item 25.1996\n",
       "\\item 25.7324\n",
       "\\item 25.9124\n",
       "\\item 25.35\n",
       "\\item 25.5828\n",
       "\\item 25.9316\n",
       "\\item 25.07\n",
       "\\item 25.9044\n",
       "\\item 25.7932\n",
       "\\item 24.9112\n",
       "\\item 25.7952\n",
       "\\item 25.9232\n",
       "\\item 25.4248\n",
       "\\item 25.8092\n",
       "\\item 25.5748\n",
       "\\item 25.3124\n",
       "\\item 25.4596\n",
       "\\item 25.9028\n",
       "\\item 25.0372\n",
       "\\item 25.5088\n",
       "\\item 25.1492\n",
       "\\item 24.8796\n",
       "\\item 25.5432\n",
       "\\item 25.4932\n",
       "\\item 25.568\n",
       "\\item 25.0192\n",
       "\\item 25.842\n",
       "\\item 25.552\n",
       "\\item 24.8688\n",
       "\\item 25.124\n",
       "\\item 25.8008\n",
       "\\item 25.2272\n",
       "\\item 25.1452\n",
       "\\item 25.842\n",
       "\\item 25.01\n",
       "\\item 25.5808\n",
       "\\item 25.5988\n",
       "\\item 25.6576\n",
       "\\item 25.4872\n",
       "\\item 25.5928\n",
       "\\item 25.3264\n",
       "\\item 25.1844\n",
       "\\item 25.8176\n",
       "\\item 25.0792\n",
       "\\item 25.564\n",
       "\\item 25.5784\n",
       "\\item 25.6572\n",
       "\\item 25.4088\n",
       "\\item 25.718\n",
       "\\item 25.4664\n",
       "\\item 25.4608\n",
       "\\item 25.4524\n",
       "\\item 25.4516\n",
       "\\item 24.9268\n",
       "\\item 25.504\n",
       "\\item 24.992\n",
       "\\item 25.5988\n",
       "\\item 25.2804\n",
       "\\item 25.7212\n",
       "\\item 25.4316\n",
       "\\item 25.964\n",
       "\\item 25.7888\n",
       "\\item 25.72\n",
       "\\item 25.9016\n",
       "\\item 26.0328\n",
       "\\item 25.8464\n",
       "\\item 25.4896\n",
       "\\item 25.3048\n",
       "\\item 25.8012\n",
       "\\item 25.4636\n",
       "\\item 25.2628\n",
       "\\item 25.186\n",
       "\\item 25.4148\n",
       "\\item 25.7456\n",
       "\\item 25.8836\n",
       "\\item 26.2712\n",
       "\\item 25.5764\n",
       "\\item 25.7564\n",
       "\\item 25.814\n",
       "\\item 25.888\n",
       "\\item 25.2436\n",
       "\\item 25.5868\n",
       "\\item 25.532\n",
       "\\item 25.018\n",
       "\\item 25.4924\n",
       "\\item 25.4892\n",
       "\\item 24.8556\n",
       "\\item 25.6464\n",
       "\\item 25.6508\n",
       "\\end{enumerate}\n"
      ],
      "text/markdown": [
       "1. 25.0312\n",
       "2. 25.944\n",
       "3. 25.5224\n",
       "4. 25.622\n",
       "5. 25.3436\n",
       "6. 25.6416\n",
       "7. 25.0244\n",
       "8. 25.8908\n",
       "9. 25.152\n",
       "10. 25.1832\n",
       "11. 25.5844\n",
       "12. 25.1996\n",
       "13. 25.7324\n",
       "14. 25.9124\n",
       "15. 25.35\n",
       "16. 25.5828\n",
       "17. 25.9316\n",
       "18. 25.07\n",
       "19. 25.9044\n",
       "20. 25.7932\n",
       "21. 24.9112\n",
       "22. 25.7952\n",
       "23. 25.9232\n",
       "24. 25.4248\n",
       "25. 25.8092\n",
       "26. 25.5748\n",
       "27. 25.3124\n",
       "28. 25.4596\n",
       "29. 25.9028\n",
       "30. 25.0372\n",
       "31. 25.5088\n",
       "32. 25.1492\n",
       "33. 24.8796\n",
       "34. 25.5432\n",
       "35. 25.4932\n",
       "36. 25.568\n",
       "37. 25.0192\n",
       "38. 25.842\n",
       "39. 25.552\n",
       "40. 24.8688\n",
       "41. 25.124\n",
       "42. 25.8008\n",
       "43. 25.2272\n",
       "44. 25.1452\n",
       "45. 25.842\n",
       "46. 25.01\n",
       "47. 25.5808\n",
       "48. 25.5988\n",
       "49. 25.6576\n",
       "50. 25.4872\n",
       "51. 25.5928\n",
       "52. 25.3264\n",
       "53. 25.1844\n",
       "54. 25.8176\n",
       "55. 25.0792\n",
       "56. 25.564\n",
       "57. 25.5784\n",
       "58. 25.6572\n",
       "59. 25.4088\n",
       "60. 25.718\n",
       "61. 25.4664\n",
       "62. 25.4608\n",
       "63. 25.4524\n",
       "64. 25.4516\n",
       "65. 24.9268\n",
       "66. 25.504\n",
       "67. 24.992\n",
       "68. 25.5988\n",
       "69. 25.2804\n",
       "70. 25.7212\n",
       "71. 25.4316\n",
       "72. 25.964\n",
       "73. 25.7888\n",
       "74. 25.72\n",
       "75. 25.9016\n",
       "76. 26.0328\n",
       "77. 25.8464\n",
       "78. 25.4896\n",
       "79. 25.3048\n",
       "80. 25.8012\n",
       "81. 25.4636\n",
       "82. 25.2628\n",
       "83. 25.186\n",
       "84. 25.4148\n",
       "85. 25.7456\n",
       "86. 25.8836\n",
       "87. 26.2712\n",
       "88. 25.5764\n",
       "89. 25.7564\n",
       "90. 25.814\n",
       "91. 25.888\n",
       "92. 25.2436\n",
       "93. 25.5868\n",
       "94. 25.532\n",
       "95. 25.018\n",
       "96. 25.4924\n",
       "97. 25.4892\n",
       "98. 24.8556\n",
       "99. 25.6464\n",
       "100. 25.6508\n",
       "\n",
       "\n"
      ],
      "text/plain": [
       "[[1]]\n",
       "[1] 25.0312\n",
       "\n",
       "[[2]]\n",
       "[1] 25.944\n",
       "\n",
       "[[3]]\n",
       "[1] 25.5224\n",
       "\n",
       "[[4]]\n",
       "[1] 25.622\n",
       "\n",
       "[[5]]\n",
       "[1] 25.3436\n",
       "\n",
       "[[6]]\n",
       "[1] 25.6416\n",
       "\n",
       "[[7]]\n",
       "[1] 25.0244\n",
       "\n",
       "[[8]]\n",
       "[1] 25.8908\n",
       "\n",
       "[[9]]\n",
       "[1] 25.152\n",
       "\n",
       "[[10]]\n",
       "[1] 25.1832\n",
       "\n",
       "[[11]]\n",
       "[1] 25.5844\n",
       "\n",
       "[[12]]\n",
       "[1] 25.1996\n",
       "\n",
       "[[13]]\n",
       "[1] 25.7324\n",
       "\n",
       "[[14]]\n",
       "[1] 25.9124\n",
       "\n",
       "[[15]]\n",
       "[1] 25.35\n",
       "\n",
       "[[16]]\n",
       "[1] 25.5828\n",
       "\n",
       "[[17]]\n",
       "[1] 25.9316\n",
       "\n",
       "[[18]]\n",
       "[1] 25.07\n",
       "\n",
       "[[19]]\n",
       "[1] 25.9044\n",
       "\n",
       "[[20]]\n",
       "[1] 25.7932\n",
       "\n",
       "[[21]]\n",
       "[1] 24.9112\n",
       "\n",
       "[[22]]\n",
       "[1] 25.7952\n",
       "\n",
       "[[23]]\n",
       "[1] 25.9232\n",
       "\n",
       "[[24]]\n",
       "[1] 25.4248\n",
       "\n",
       "[[25]]\n",
       "[1] 25.8092\n",
       "\n",
       "[[26]]\n",
       "[1] 25.5748\n",
       "\n",
       "[[27]]\n",
       "[1] 25.3124\n",
       "\n",
       "[[28]]\n",
       "[1] 25.4596\n",
       "\n",
       "[[29]]\n",
       "[1] 25.9028\n",
       "\n",
       "[[30]]\n",
       "[1] 25.0372\n",
       "\n",
       "[[31]]\n",
       "[1] 25.5088\n",
       "\n",
       "[[32]]\n",
       "[1] 25.1492\n",
       "\n",
       "[[33]]\n",
       "[1] 24.8796\n",
       "\n",
       "[[34]]\n",
       "[1] 25.5432\n",
       "\n",
       "[[35]]\n",
       "[1] 25.4932\n",
       "\n",
       "[[36]]\n",
       "[1] 25.568\n",
       "\n",
       "[[37]]\n",
       "[1] 25.0192\n",
       "\n",
       "[[38]]\n",
       "[1] 25.842\n",
       "\n",
       "[[39]]\n",
       "[1] 25.552\n",
       "\n",
       "[[40]]\n",
       "[1] 24.8688\n",
       "\n",
       "[[41]]\n",
       "[1] 25.124\n",
       "\n",
       "[[42]]\n",
       "[1] 25.8008\n",
       "\n",
       "[[43]]\n",
       "[1] 25.2272\n",
       "\n",
       "[[44]]\n",
       "[1] 25.1452\n",
       "\n",
       "[[45]]\n",
       "[1] 25.842\n",
       "\n",
       "[[46]]\n",
       "[1] 25.01\n",
       "\n",
       "[[47]]\n",
       "[1] 25.5808\n",
       "\n",
       "[[48]]\n",
       "[1] 25.5988\n",
       "\n",
       "[[49]]\n",
       "[1] 25.6576\n",
       "\n",
       "[[50]]\n",
       "[1] 25.4872\n",
       "\n",
       "[[51]]\n",
       "[1] 25.5928\n",
       "\n",
       "[[52]]\n",
       "[1] 25.3264\n",
       "\n",
       "[[53]]\n",
       "[1] 25.1844\n",
       "\n",
       "[[54]]\n",
       "[1] 25.8176\n",
       "\n",
       "[[55]]\n",
       "[1] 25.0792\n",
       "\n",
       "[[56]]\n",
       "[1] 25.564\n",
       "\n",
       "[[57]]\n",
       "[1] 25.5784\n",
       "\n",
       "[[58]]\n",
       "[1] 25.6572\n",
       "\n",
       "[[59]]\n",
       "[1] 25.4088\n",
       "\n",
       "[[60]]\n",
       "[1] 25.718\n",
       "\n",
       "[[61]]\n",
       "[1] 25.4664\n",
       "\n",
       "[[62]]\n",
       "[1] 25.4608\n",
       "\n",
       "[[63]]\n",
       "[1] 25.4524\n",
       "\n",
       "[[64]]\n",
       "[1] 25.4516\n",
       "\n",
       "[[65]]\n",
       "[1] 24.9268\n",
       "\n",
       "[[66]]\n",
       "[1] 25.504\n",
       "\n",
       "[[67]]\n",
       "[1] 24.992\n",
       "\n",
       "[[68]]\n",
       "[1] 25.5988\n",
       "\n",
       "[[69]]\n",
       "[1] 25.2804\n",
       "\n",
       "[[70]]\n",
       "[1] 25.7212\n",
       "\n",
       "[[71]]\n",
       "[1] 25.4316\n",
       "\n",
       "[[72]]\n",
       "[1] 25.964\n",
       "\n",
       "[[73]]\n",
       "[1] 25.7888\n",
       "\n",
       "[[74]]\n",
       "[1] 25.72\n",
       "\n",
       "[[75]]\n",
       "[1] 25.9016\n",
       "\n",
       "[[76]]\n",
       "[1] 26.0328\n",
       "\n",
       "[[77]]\n",
       "[1] 25.8464\n",
       "\n",
       "[[78]]\n",
       "[1] 25.4896\n",
       "\n",
       "[[79]]\n",
       "[1] 25.3048\n",
       "\n",
       "[[80]]\n",
       "[1] 25.8012\n",
       "\n",
       "[[81]]\n",
       "[1] 25.4636\n",
       "\n",
       "[[82]]\n",
       "[1] 25.2628\n",
       "\n",
       "[[83]]\n",
       "[1] 25.186\n",
       "\n",
       "[[84]]\n",
       "[1] 25.4148\n",
       "\n",
       "[[85]]\n",
       "[1] 25.7456\n",
       "\n",
       "[[86]]\n",
       "[1] 25.8836\n",
       "\n",
       "[[87]]\n",
       "[1] 26.2712\n",
       "\n",
       "[[88]]\n",
       "[1] 25.5764\n",
       "\n",
       "[[89]]\n",
       "[1] 25.7564\n",
       "\n",
       "[[90]]\n",
       "[1] 25.814\n",
       "\n",
       "[[91]]\n",
       "[1] 25.888\n",
       "\n",
       "[[92]]\n",
       "[1] 25.2436\n",
       "\n",
       "[[93]]\n",
       "[1] 25.5868\n",
       "\n",
       "[[94]]\n",
       "[1] 25.532\n",
       "\n",
       "[[95]]\n",
       "[1] 25.018\n",
       "\n",
       "[[96]]\n",
       "[1] 25.4924\n",
       "\n",
       "[[97]]\n",
       "[1] 25.4892\n",
       "\n",
       "[[98]]\n",
       "[1] 24.8556\n",
       "\n",
       "[[99]]\n",
       "[1] 25.6464\n",
       "\n",
       "[[100]]\n",
       "[1] 25.6508\n"
      ]
     },
     "metadata": {},
     "output_type": "display_data"
    }
   ],
   "source": [
    "mclapply(X = A.list, FUN = mean, mc.cores = 19)"
   ]
  },
  {
   "cell_type": "markdown",
   "metadata": {},
   "source": [
    "Nótese que `mclapply()` abre y cierra el *cluster* automáticamente."
   ]
  },
  {
   "cell_type": "markdown",
   "metadata": {},
   "source": [
    "### ¿Cuándo paralelizar?\n",
    "\n",
    "Aunque en teoría cada procesador debería reducir linealmente el tiempo de cómputo, en la práctica hay trabajo adicional que reduce la eficiencia. Tanto el código como los datos necesitan ser transferidos a cada núcleo y se deben crear los subprocesos, lo que suma tiempo. Es por ello que vemos que paralelizar en el ejemplo de arriba no merece la pena, ya que si el tiempo de computación es muy corto para cada subtarea, el coste de preparar los recursos para la paralelización es más grande que el ahorro conseguido. \n",
    "\n",
    "A continuación vamos a ver un ejemplo de un caso en el que la paralelización disminuye sustancialmente el tiempo de computación. Tenemos una lista de 19 vectores de tamaño 1000 con números obtenidos de una distribución uniforme, `unif`, al que queremos aplicar la función `mi.funcion()`, que definimos a continuación:"
   ]
  },
  {
   "cell_type": "code",
   "execution_count": 36,
   "metadata": {},
   "outputs": [],
   "source": [
    "unif <- replicate(runif(n = 1000), n = 19, simplify = F)\n",
    "mi.funcion <- function(x) {\n",
    "    sort(x)\n",
    "    d.tipica <- sd(x)\n",
    "    media <- mean(x)\n",
    "    \n",
    "    error.rel.media <- 1\n",
    "    error.rel.d.tipica <- 1\n",
    "    while(error.rel.media > 0.01 || error.rel.d.tipica > 0.001){\n",
    "        muestra <- sample(x, size = 10)\n",
    "        error.rel.media <- abs(mean(muestra) - media)/media\n",
    "        error.rel.d.tipica <- abs(sd(muestra) - d.tipica)/d.tipica\n",
    "    }\n",
    "    return(muestra)\n",
    "}  "
   ]
  },
  {
   "cell_type": "markdown",
   "metadata": {},
   "source": [
    "La función `mi.funcion()` extrae muestras de $10$ elementos de cada vector hasta que obtiene una con la media y desviación típica razonablemente cerca."
   ]
  },
  {
   "cell_type": "markdown",
   "metadata": {},
   "source": [
    "**Ejercicio:** Utiliza la función `microbenchmark()` para medir el tiempo de ejecución de aplicar la función `mi.funcion` a cada elemento de la lista `unif`, primero sin paralelizar y después paralelizando."
   ]
  },
  {
   "cell_type": "code",
   "execution_count": null,
   "metadata": {},
   "outputs": [],
   "source": []
  }
 ],
 "metadata": {
  "kernelspec": {
   "display_name": "R",
   "language": "R",
   "name": "ir"
  },
  "language_info": {
   "codemirror_mode": "r",
   "file_extension": ".r",
   "mimetype": "text/x-r-source",
   "name": "R",
   "pygments_lexer": "r",
   "version": "3.4.4"
  },
  "latex_envs": {
   "LaTeX_envs_menu_present": true,
   "autoclose": false,
   "autocomplete": true,
   "bibliofile": "biblio.bib",
   "cite_by": "apalike",
   "current_citInitial": 1,
   "eqLabelWithNumbers": true,
   "eqNumInitial": 1,
   "hotkeys": {
    "equation": "Ctrl-E",
    "itemize": "Ctrl-I"
   },
   "labels_anchors": false,
   "latex_user_defs": false,
   "report_style_numbering": false,
   "user_envs_cfg": false
  },
  "toc": {
   "base_numbering": 1,
   "nav_menu": {},
   "number_sections": true,
   "sideBar": true,
   "skip_h1_title": false,
   "title_cell": "Table of Contents",
   "title_sidebar": "Contents",
   "toc_cell": false,
   "toc_position": {
    "height": "calc(100% - 180px)",
    "left": "10px",
    "top": "150px",
    "width": "245.4px"
   },
   "toc_section_display": true,
   "toc_window_display": false
  }
 },
 "nbformat": 4,
 "nbformat_minor": 2
}
